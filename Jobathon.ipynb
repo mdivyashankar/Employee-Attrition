{
 "cells": [
  {
   "cell_type": "markdown",
   "id": "968320af",
   "metadata": {},
   "source": [
    "#### Installing the required libraries"
   ]
  },
  {
   "cell_type": "code",
   "execution_count": 1,
   "id": "fe85f4fa",
   "metadata": {},
   "outputs": [],
   "source": [
    "import warnings\n",
    "warnings.filterwarnings('ignore')\n",
    "import os\n",
    "import numpy as np\n",
    "import pandas as pd"
   ]
  },
  {
   "cell_type": "markdown",
   "id": "cf370e2c",
   "metadata": {},
   "source": [
    "#### Loading and Understanding data"
   ]
  },
  {
   "cell_type": "code",
   "execution_count": 2,
   "id": "2f445ed5",
   "metadata": {},
   "outputs": [],
   "source": [
    "data = pd.read_csv('train.csv')\n",
    "test = pd.read_csv('test.csv')"
   ]
  },
  {
   "cell_type": "code",
   "execution_count": 3,
   "id": "99c8dd13",
   "metadata": {},
   "outputs": [
    {
     "name": "stdout",
     "output_type": "stream",
     "text": [
      "There are 19104 rows and 13 columns in the given data\n",
      "There are 741 rows and 1 columns in test\n"
     ]
    }
   ],
   "source": [
    "print(\"There are {} rows and {} columns in the given data\".format(data.shape[0], data.shape[1]))\n",
    "print(\"There are {} rows and {} columns in test\".format(test.shape[0], test.shape[1]))"
   ]
  },
  {
   "cell_type": "code",
   "execution_count": 4,
   "id": "5ec70786",
   "metadata": {},
   "outputs": [
    {
     "data": {
      "text/html": [
       "<div>\n",
       "<style scoped>\n",
       "    .dataframe tbody tr th:only-of-type {\n",
       "        vertical-align: middle;\n",
       "    }\n",
       "\n",
       "    .dataframe tbody tr th {\n",
       "        vertical-align: top;\n",
       "    }\n",
       "\n",
       "    .dataframe thead th {\n",
       "        text-align: right;\n",
       "    }\n",
       "</style>\n",
       "<table border=\"1\" class=\"dataframe\">\n",
       "  <thead>\n",
       "    <tr style=\"text-align: right;\">\n",
       "      <th></th>\n",
       "      <th>MMM-YY</th>\n",
       "      <th>Emp_ID</th>\n",
       "      <th>Age</th>\n",
       "      <th>Gender</th>\n",
       "      <th>City</th>\n",
       "      <th>Education_Level</th>\n",
       "      <th>Salary</th>\n",
       "      <th>Dateofjoining</th>\n",
       "      <th>LastWorkingDate</th>\n",
       "      <th>Joining Designation</th>\n",
       "    </tr>\n",
       "  </thead>\n",
       "  <tbody>\n",
       "    <tr>\n",
       "      <th>0</th>\n",
       "      <td>2016-01-01</td>\n",
       "      <td>1</td>\n",
       "      <td>28</td>\n",
       "      <td>Male</td>\n",
       "      <td>C23</td>\n",
       "      <td>Master</td>\n",
       "      <td>57387</td>\n",
       "      <td>2015-12-24</td>\n",
       "      <td>NaN</td>\n",
       "      <td>1</td>\n",
       "    </tr>\n",
       "    <tr>\n",
       "      <th>1</th>\n",
       "      <td>2016-02-01</td>\n",
       "      <td>1</td>\n",
       "      <td>28</td>\n",
       "      <td>Male</td>\n",
       "      <td>C23</td>\n",
       "      <td>Master</td>\n",
       "      <td>57387</td>\n",
       "      <td>2015-12-24</td>\n",
       "      <td>NaN</td>\n",
       "      <td>1</td>\n",
       "    </tr>\n",
       "    <tr>\n",
       "      <th>2</th>\n",
       "      <td>2016-03-01</td>\n",
       "      <td>1</td>\n",
       "      <td>28</td>\n",
       "      <td>Male</td>\n",
       "      <td>C23</td>\n",
       "      <td>Master</td>\n",
       "      <td>57387</td>\n",
       "      <td>2015-12-24</td>\n",
       "      <td>2016-03-11</td>\n",
       "      <td>1</td>\n",
       "    </tr>\n",
       "    <tr>\n",
       "      <th>3</th>\n",
       "      <td>2017-11-01</td>\n",
       "      <td>2</td>\n",
       "      <td>31</td>\n",
       "      <td>Male</td>\n",
       "      <td>C7</td>\n",
       "      <td>Master</td>\n",
       "      <td>67016</td>\n",
       "      <td>2017-11-06</td>\n",
       "      <td>NaN</td>\n",
       "      <td>2</td>\n",
       "    </tr>\n",
       "    <tr>\n",
       "      <th>4</th>\n",
       "      <td>2017-12-01</td>\n",
       "      <td>2</td>\n",
       "      <td>31</td>\n",
       "      <td>Male</td>\n",
       "      <td>C7</td>\n",
       "      <td>Master</td>\n",
       "      <td>67016</td>\n",
       "      <td>2017-11-06</td>\n",
       "      <td>NaN</td>\n",
       "      <td>2</td>\n",
       "    </tr>\n",
       "  </tbody>\n",
       "</table>\n",
       "</div>"
      ],
      "text/plain": [
       "       MMM-YY  Emp_ID  Age Gender City Education_Level  Salary Dateofjoining  \\\n",
       "0  2016-01-01       1   28   Male  C23          Master   57387    2015-12-24   \n",
       "1  2016-02-01       1   28   Male  C23          Master   57387    2015-12-24   \n",
       "2  2016-03-01       1   28   Male  C23          Master   57387    2015-12-24   \n",
       "3  2017-11-01       2   31   Male   C7          Master   67016    2017-11-06   \n",
       "4  2017-12-01       2   31   Male   C7          Master   67016    2017-11-06   \n",
       "\n",
       "  LastWorkingDate  Joining Designation  \n",
       "0             NaN                    1  \n",
       "1             NaN                    1  \n",
       "2      2016-03-11                    1  \n",
       "3             NaN                    2  \n",
       "4             NaN                    2  "
      ]
     },
     "execution_count": 4,
     "metadata": {},
     "output_type": "execute_result"
    }
   ],
   "source": [
    "data.iloc[:,0:10].head()"
   ]
  },
  {
   "cell_type": "code",
   "execution_count": 5,
   "id": "f66f20e4",
   "metadata": {},
   "outputs": [
    {
     "data": {
      "text/html": [
       "<div>\n",
       "<style scoped>\n",
       "    .dataframe tbody tr th:only-of-type {\n",
       "        vertical-align: middle;\n",
       "    }\n",
       "\n",
       "    .dataframe tbody tr th {\n",
       "        vertical-align: top;\n",
       "    }\n",
       "\n",
       "    .dataframe thead th {\n",
       "        text-align: right;\n",
       "    }\n",
       "</style>\n",
       "<table border=\"1\" class=\"dataframe\">\n",
       "  <thead>\n",
       "    <tr style=\"text-align: right;\">\n",
       "      <th></th>\n",
       "      <th>Designation</th>\n",
       "      <th>Total Business Value</th>\n",
       "      <th>Quarterly Rating</th>\n",
       "    </tr>\n",
       "  </thead>\n",
       "  <tbody>\n",
       "    <tr>\n",
       "      <th>0</th>\n",
       "      <td>1</td>\n",
       "      <td>2381060</td>\n",
       "      <td>2</td>\n",
       "    </tr>\n",
       "    <tr>\n",
       "      <th>1</th>\n",
       "      <td>1</td>\n",
       "      <td>-665480</td>\n",
       "      <td>2</td>\n",
       "    </tr>\n",
       "    <tr>\n",
       "      <th>2</th>\n",
       "      <td>1</td>\n",
       "      <td>0</td>\n",
       "      <td>2</td>\n",
       "    </tr>\n",
       "    <tr>\n",
       "      <th>3</th>\n",
       "      <td>2</td>\n",
       "      <td>0</td>\n",
       "      <td>1</td>\n",
       "    </tr>\n",
       "    <tr>\n",
       "      <th>4</th>\n",
       "      <td>2</td>\n",
       "      <td>0</td>\n",
       "      <td>1</td>\n",
       "    </tr>\n",
       "  </tbody>\n",
       "</table>\n",
       "</div>"
      ],
      "text/plain": [
       "   Designation  Total Business Value  Quarterly Rating\n",
       "0            1               2381060                 2\n",
       "1            1               -665480                 2\n",
       "2            1                     0                 2\n",
       "3            2                     0                 1\n",
       "4            2                     0                 1"
      ]
     },
     "execution_count": 5,
     "metadata": {},
     "output_type": "execute_result"
    }
   ],
   "source": [
    "data.iloc[:,10:].head()"
   ]
  },
  {
   "cell_type": "code",
   "execution_count": 6,
   "id": "7830b9cc",
   "metadata": {},
   "outputs": [
    {
     "data": {
      "text/html": [
       "<div>\n",
       "<style scoped>\n",
       "    .dataframe tbody tr th:only-of-type {\n",
       "        vertical-align: middle;\n",
       "    }\n",
       "\n",
       "    .dataframe tbody tr th {\n",
       "        vertical-align: top;\n",
       "    }\n",
       "\n",
       "    .dataframe thead th {\n",
       "        text-align: right;\n",
       "    }\n",
       "</style>\n",
       "<table border=\"1\" class=\"dataframe\">\n",
       "  <thead>\n",
       "    <tr style=\"text-align: right;\">\n",
       "      <th></th>\n",
       "      <th>Emp_ID</th>\n",
       "    </tr>\n",
       "  </thead>\n",
       "  <tbody>\n",
       "    <tr>\n",
       "      <th>0</th>\n",
       "      <td>394</td>\n",
       "    </tr>\n",
       "    <tr>\n",
       "      <th>1</th>\n",
       "      <td>173</td>\n",
       "    </tr>\n",
       "    <tr>\n",
       "      <th>2</th>\n",
       "      <td>1090</td>\n",
       "    </tr>\n",
       "    <tr>\n",
       "      <th>3</th>\n",
       "      <td>840</td>\n",
       "    </tr>\n",
       "    <tr>\n",
       "      <th>4</th>\n",
       "      <td>308</td>\n",
       "    </tr>\n",
       "  </tbody>\n",
       "</table>\n",
       "</div>"
      ],
      "text/plain": [
       "   Emp_ID\n",
       "0     394\n",
       "1     173\n",
       "2    1090\n",
       "3     840\n",
       "4     308"
      ]
     },
     "execution_count": 6,
     "metadata": {},
     "output_type": "execute_result"
    }
   ],
   "source": [
    "test.head()"
   ]
  },
  {
   "cell_type": "code",
   "execution_count": 7,
   "id": "a89b276b",
   "metadata": {},
   "outputs": [
    {
     "data": {
      "text/plain": [
       "set()"
      ]
     },
     "execution_count": 7,
     "metadata": {},
     "output_type": "execute_result"
    }
   ],
   "source": [
    "set(test.Emp_ID) - set(data.Emp_ID)"
   ]
  },
  {
   "cell_type": "raw",
   "id": "2aa5a596",
   "metadata": {},
   "source": [
    "# Notice that all the Emp_IDs present in test are in train. \n",
    "# So, let us exclude those records from train and move them to test data."
   ]
  },
  {
   "cell_type": "code",
   "execution_count": 8,
   "id": "f961c892",
   "metadata": {
    "scrolled": true
   },
   "outputs": [
    {
     "name": "stdout",
     "output_type": "stream",
     "text": [
      "19104\n",
      "8588\n",
      "741\n"
     ]
    }
   ],
   "source": [
    "print(data.shape[0])\n",
    "print(data[data.Emp_ID.isin(test.Emp_ID)].shape[0])\n",
    "print(data[data.Emp_ID.isin(test.Emp_ID)]['Emp_ID'].nunique())"
   ]
  },
  {
   "cell_type": "raw",
   "id": "f124c78a",
   "metadata": {},
   "source": [
    "Out of the total 19,104 records 8588 records belonging to 741 unique employees should be moved to test data."
   ]
  },
  {
   "cell_type": "code",
   "execution_count": 9,
   "id": "1cf619b7",
   "metadata": {},
   "outputs": [
    {
     "data": {
      "text/plain": [
       "(8588, 13)"
      ]
     },
     "execution_count": 9,
     "metadata": {},
     "output_type": "execute_result"
    }
   ],
   "source": [
    "test = pd.merge(test, data, how = 'left', on = 'Emp_ID')\n",
    "test.shape"
   ]
  },
  {
   "cell_type": "code",
   "execution_count": 10,
   "id": "4345ca1e",
   "metadata": {},
   "outputs": [
    {
     "data": {
      "text/html": [
       "<div>\n",
       "<style scoped>\n",
       "    .dataframe tbody tr th:only-of-type {\n",
       "        vertical-align: middle;\n",
       "    }\n",
       "\n",
       "    .dataframe tbody tr th {\n",
       "        vertical-align: top;\n",
       "    }\n",
       "\n",
       "    .dataframe thead th {\n",
       "        text-align: right;\n",
       "    }\n",
       "</style>\n",
       "<table border=\"1\" class=\"dataframe\">\n",
       "  <thead>\n",
       "    <tr style=\"text-align: right;\">\n",
       "      <th></th>\n",
       "      <th>Emp_ID</th>\n",
       "      <th>MMM-YY</th>\n",
       "      <th>Age</th>\n",
       "      <th>Gender</th>\n",
       "      <th>City</th>\n",
       "      <th>Education_Level</th>\n",
       "      <th>Salary</th>\n",
       "      <th>Dateofjoining</th>\n",
       "      <th>LastWorkingDate</th>\n",
       "      <th>Joining Designation</th>\n",
       "      <th>Designation</th>\n",
       "      <th>Total Business Value</th>\n",
       "      <th>Quarterly Rating</th>\n",
       "    </tr>\n",
       "  </thead>\n",
       "  <tbody>\n",
       "    <tr>\n",
       "      <th>0</th>\n",
       "      <td>394</td>\n",
       "      <td>2016-01-01</td>\n",
       "      <td>32</td>\n",
       "      <td>Female</td>\n",
       "      <td>C20</td>\n",
       "      <td>Master</td>\n",
       "      <td>97722</td>\n",
       "      <td>2011-06-06</td>\n",
       "      <td>NaN</td>\n",
       "      <td>2</td>\n",
       "      <td>4</td>\n",
       "      <td>189360</td>\n",
       "      <td>1</td>\n",
       "    </tr>\n",
       "    <tr>\n",
       "      <th>1</th>\n",
       "      <td>394</td>\n",
       "      <td>2016-02-01</td>\n",
       "      <td>32</td>\n",
       "      <td>Female</td>\n",
       "      <td>C20</td>\n",
       "      <td>Master</td>\n",
       "      <td>97722</td>\n",
       "      <td>2011-06-06</td>\n",
       "      <td>NaN</td>\n",
       "      <td>2</td>\n",
       "      <td>4</td>\n",
       "      <td>390810</td>\n",
       "      <td>1</td>\n",
       "    </tr>\n",
       "    <tr>\n",
       "      <th>2</th>\n",
       "      <td>394</td>\n",
       "      <td>2016-03-01</td>\n",
       "      <td>32</td>\n",
       "      <td>Female</td>\n",
       "      <td>C20</td>\n",
       "      <td>Master</td>\n",
       "      <td>97722</td>\n",
       "      <td>2011-06-06</td>\n",
       "      <td>NaN</td>\n",
       "      <td>2</td>\n",
       "      <td>4</td>\n",
       "      <td>1846360</td>\n",
       "      <td>1</td>\n",
       "    </tr>\n",
       "    <tr>\n",
       "      <th>3</th>\n",
       "      <td>394</td>\n",
       "      <td>2016-04-01</td>\n",
       "      <td>33</td>\n",
       "      <td>Female</td>\n",
       "      <td>C20</td>\n",
       "      <td>Master</td>\n",
       "      <td>97722</td>\n",
       "      <td>2011-06-06</td>\n",
       "      <td>NaN</td>\n",
       "      <td>2</td>\n",
       "      <td>4</td>\n",
       "      <td>194010</td>\n",
       "      <td>2</td>\n",
       "    </tr>\n",
       "    <tr>\n",
       "      <th>4</th>\n",
       "      <td>394</td>\n",
       "      <td>2016-05-01</td>\n",
       "      <td>33</td>\n",
       "      <td>Female</td>\n",
       "      <td>C20</td>\n",
       "      <td>Master</td>\n",
       "      <td>97722</td>\n",
       "      <td>2011-06-06</td>\n",
       "      <td>NaN</td>\n",
       "      <td>2</td>\n",
       "      <td>4</td>\n",
       "      <td>371160</td>\n",
       "      <td>2</td>\n",
       "    </tr>\n",
       "    <tr>\n",
       "      <th>5</th>\n",
       "      <td>394</td>\n",
       "      <td>2016-06-01</td>\n",
       "      <td>33</td>\n",
       "      <td>Female</td>\n",
       "      <td>C20</td>\n",
       "      <td>Master</td>\n",
       "      <td>97722</td>\n",
       "      <td>2011-06-06</td>\n",
       "      <td>NaN</td>\n",
       "      <td>2</td>\n",
       "      <td>4</td>\n",
       "      <td>427870</td>\n",
       "      <td>2</td>\n",
       "    </tr>\n",
       "    <tr>\n",
       "      <th>6</th>\n",
       "      <td>394</td>\n",
       "      <td>2016-07-01</td>\n",
       "      <td>33</td>\n",
       "      <td>Female</td>\n",
       "      <td>C20</td>\n",
       "      <td>Master</td>\n",
       "      <td>97722</td>\n",
       "      <td>2011-06-06</td>\n",
       "      <td>NaN</td>\n",
       "      <td>2</td>\n",
       "      <td>4</td>\n",
       "      <td>1320640</td>\n",
       "      <td>3</td>\n",
       "    </tr>\n",
       "    <tr>\n",
       "      <th>7</th>\n",
       "      <td>394</td>\n",
       "      <td>2016-08-01</td>\n",
       "      <td>33</td>\n",
       "      <td>Female</td>\n",
       "      <td>C20</td>\n",
       "      <td>Master</td>\n",
       "      <td>97722</td>\n",
       "      <td>2011-06-06</td>\n",
       "      <td>NaN</td>\n",
       "      <td>2</td>\n",
       "      <td>4</td>\n",
       "      <td>819300</td>\n",
       "      <td>3</td>\n",
       "    </tr>\n",
       "    <tr>\n",
       "      <th>8</th>\n",
       "      <td>394</td>\n",
       "      <td>2016-09-01</td>\n",
       "      <td>33</td>\n",
       "      <td>Female</td>\n",
       "      <td>C20</td>\n",
       "      <td>Master</td>\n",
       "      <td>97722</td>\n",
       "      <td>2011-06-06</td>\n",
       "      <td>NaN</td>\n",
       "      <td>2</td>\n",
       "      <td>4</td>\n",
       "      <td>1816560</td>\n",
       "      <td>3</td>\n",
       "    </tr>\n",
       "    <tr>\n",
       "      <th>9</th>\n",
       "      <td>394</td>\n",
       "      <td>2016-10-01</td>\n",
       "      <td>33</td>\n",
       "      <td>Female</td>\n",
       "      <td>C20</td>\n",
       "      <td>Master</td>\n",
       "      <td>97722</td>\n",
       "      <td>2011-06-06</td>\n",
       "      <td>NaN</td>\n",
       "      <td>2</td>\n",
       "      <td>4</td>\n",
       "      <td>4687690</td>\n",
       "      <td>3</td>\n",
       "    </tr>\n",
       "  </tbody>\n",
       "</table>\n",
       "</div>"
      ],
      "text/plain": [
       "   Emp_ID      MMM-YY  Age  Gender City Education_Level  Salary Dateofjoining  \\\n",
       "0     394  2016-01-01   32  Female  C20          Master   97722    2011-06-06   \n",
       "1     394  2016-02-01   32  Female  C20          Master   97722    2011-06-06   \n",
       "2     394  2016-03-01   32  Female  C20          Master   97722    2011-06-06   \n",
       "3     394  2016-04-01   33  Female  C20          Master   97722    2011-06-06   \n",
       "4     394  2016-05-01   33  Female  C20          Master   97722    2011-06-06   \n",
       "5     394  2016-06-01   33  Female  C20          Master   97722    2011-06-06   \n",
       "6     394  2016-07-01   33  Female  C20          Master   97722    2011-06-06   \n",
       "7     394  2016-08-01   33  Female  C20          Master   97722    2011-06-06   \n",
       "8     394  2016-09-01   33  Female  C20          Master   97722    2011-06-06   \n",
       "9     394  2016-10-01   33  Female  C20          Master   97722    2011-06-06   \n",
       "\n",
       "  LastWorkingDate  Joining Designation  Designation  Total Business Value  \\\n",
       "0             NaN                    2            4                189360   \n",
       "1             NaN                    2            4                390810   \n",
       "2             NaN                    2            4               1846360   \n",
       "3             NaN                    2            4                194010   \n",
       "4             NaN                    2            4                371160   \n",
       "5             NaN                    2            4                427870   \n",
       "6             NaN                    2            4               1320640   \n",
       "7             NaN                    2            4                819300   \n",
       "8             NaN                    2            4               1816560   \n",
       "9             NaN                    2            4               4687690   \n",
       "\n",
       "   Quarterly Rating  \n",
       "0                 1  \n",
       "1                 1  \n",
       "2                 1  \n",
       "3                 2  \n",
       "4                 2  \n",
       "5                 2  \n",
       "6                 3  \n",
       "7                 3  \n",
       "8                 3  \n",
       "9                 3  "
      ]
     },
     "execution_count": 10,
     "metadata": {},
     "output_type": "execute_result"
    }
   ],
   "source": [
    "test.head(10)"
   ]
  },
  {
   "cell_type": "code",
   "execution_count": 11,
   "id": "96fc9257",
   "metadata": {},
   "outputs": [
    {
     "data": {
      "text/plain": [
       "(10516, 13)"
      ]
     },
     "execution_count": 11,
     "metadata": {},
     "output_type": "execute_result"
    }
   ],
   "source": [
    "data = data[~(data.Emp_ID.isin(test.Emp_ID))]\n",
    "data.shape"
   ]
  },
  {
   "cell_type": "code",
   "execution_count": 12,
   "id": "f6058ccd",
   "metadata": {},
   "outputs": [
    {
     "data": {
      "text/html": [
       "<div>\n",
       "<style scoped>\n",
       "    .dataframe tbody tr th:only-of-type {\n",
       "        vertical-align: middle;\n",
       "    }\n",
       "\n",
       "    .dataframe tbody tr th {\n",
       "        vertical-align: top;\n",
       "    }\n",
       "\n",
       "    .dataframe thead th {\n",
       "        text-align: right;\n",
       "    }\n",
       "</style>\n",
       "<table border=\"1\" class=\"dataframe\">\n",
       "  <thead>\n",
       "    <tr style=\"text-align: right;\">\n",
       "      <th></th>\n",
       "      <th>MMM-YY</th>\n",
       "      <th>Emp_ID</th>\n",
       "      <th>Age</th>\n",
       "      <th>Gender</th>\n",
       "      <th>City</th>\n",
       "      <th>Education_Level</th>\n",
       "      <th>Salary</th>\n",
       "      <th>Dateofjoining</th>\n",
       "      <th>LastWorkingDate</th>\n",
       "      <th>Joining Designation</th>\n",
       "      <th>Designation</th>\n",
       "      <th>Total Business Value</th>\n",
       "      <th>Quarterly Rating</th>\n",
       "    </tr>\n",
       "  </thead>\n",
       "  <tbody>\n",
       "    <tr>\n",
       "      <th>0</th>\n",
       "      <td>2016-01-01</td>\n",
       "      <td>1</td>\n",
       "      <td>28</td>\n",
       "      <td>Male</td>\n",
       "      <td>C23</td>\n",
       "      <td>Master</td>\n",
       "      <td>57387</td>\n",
       "      <td>2015-12-24</td>\n",
       "      <td>NaN</td>\n",
       "      <td>1</td>\n",
       "      <td>1</td>\n",
       "      <td>2381060</td>\n",
       "      <td>2</td>\n",
       "    </tr>\n",
       "    <tr>\n",
       "      <th>1</th>\n",
       "      <td>2016-02-01</td>\n",
       "      <td>1</td>\n",
       "      <td>28</td>\n",
       "      <td>Male</td>\n",
       "      <td>C23</td>\n",
       "      <td>Master</td>\n",
       "      <td>57387</td>\n",
       "      <td>2015-12-24</td>\n",
       "      <td>NaN</td>\n",
       "      <td>1</td>\n",
       "      <td>1</td>\n",
       "      <td>-665480</td>\n",
       "      <td>2</td>\n",
       "    </tr>\n",
       "    <tr>\n",
       "      <th>2</th>\n",
       "      <td>2016-03-01</td>\n",
       "      <td>1</td>\n",
       "      <td>28</td>\n",
       "      <td>Male</td>\n",
       "      <td>C23</td>\n",
       "      <td>Master</td>\n",
       "      <td>57387</td>\n",
       "      <td>2015-12-24</td>\n",
       "      <td>2016-03-11</td>\n",
       "      <td>1</td>\n",
       "      <td>1</td>\n",
       "      <td>0</td>\n",
       "      <td>2</td>\n",
       "    </tr>\n",
       "    <tr>\n",
       "      <th>5</th>\n",
       "      <td>2016-12-01</td>\n",
       "      <td>4</td>\n",
       "      <td>43</td>\n",
       "      <td>Male</td>\n",
       "      <td>C13</td>\n",
       "      <td>Master</td>\n",
       "      <td>65603</td>\n",
       "      <td>2016-12-07</td>\n",
       "      <td>NaN</td>\n",
       "      <td>2</td>\n",
       "      <td>2</td>\n",
       "      <td>0</td>\n",
       "      <td>1</td>\n",
       "    </tr>\n",
       "    <tr>\n",
       "      <th>6</th>\n",
       "      <td>2017-01-01</td>\n",
       "      <td>4</td>\n",
       "      <td>43</td>\n",
       "      <td>Male</td>\n",
       "      <td>C13</td>\n",
       "      <td>Master</td>\n",
       "      <td>65603</td>\n",
       "      <td>2016-12-07</td>\n",
       "      <td>NaN</td>\n",
       "      <td>2</td>\n",
       "      <td>2</td>\n",
       "      <td>0</td>\n",
       "      <td>1</td>\n",
       "    </tr>\n",
       "    <tr>\n",
       "      <th>7</th>\n",
       "      <td>2017-02-01</td>\n",
       "      <td>4</td>\n",
       "      <td>43</td>\n",
       "      <td>Male</td>\n",
       "      <td>C13</td>\n",
       "      <td>Master</td>\n",
       "      <td>65603</td>\n",
       "      <td>2016-12-07</td>\n",
       "      <td>NaN</td>\n",
       "      <td>2</td>\n",
       "      <td>2</td>\n",
       "      <td>0</td>\n",
       "      <td>1</td>\n",
       "    </tr>\n",
       "    <tr>\n",
       "      <th>8</th>\n",
       "      <td>2017-03-01</td>\n",
       "      <td>4</td>\n",
       "      <td>43</td>\n",
       "      <td>Male</td>\n",
       "      <td>C13</td>\n",
       "      <td>Master</td>\n",
       "      <td>65603</td>\n",
       "      <td>2016-12-07</td>\n",
       "      <td>NaN</td>\n",
       "      <td>2</td>\n",
       "      <td>2</td>\n",
       "      <td>350000</td>\n",
       "      <td>1</td>\n",
       "    </tr>\n",
       "    <tr>\n",
       "      <th>9</th>\n",
       "      <td>2017-04-01</td>\n",
       "      <td>4</td>\n",
       "      <td>43</td>\n",
       "      <td>Male</td>\n",
       "      <td>C13</td>\n",
       "      <td>Master</td>\n",
       "      <td>65603</td>\n",
       "      <td>2016-12-07</td>\n",
       "      <td>2017-04-27</td>\n",
       "      <td>2</td>\n",
       "      <td>2</td>\n",
       "      <td>0</td>\n",
       "      <td>1</td>\n",
       "    </tr>\n",
       "    <tr>\n",
       "      <th>10</th>\n",
       "      <td>2016-01-01</td>\n",
       "      <td>5</td>\n",
       "      <td>29</td>\n",
       "      <td>Male</td>\n",
       "      <td>C9</td>\n",
       "      <td>College</td>\n",
       "      <td>46368</td>\n",
       "      <td>2016-01-09</td>\n",
       "      <td>NaN</td>\n",
       "      <td>1</td>\n",
       "      <td>1</td>\n",
       "      <td>0</td>\n",
       "      <td>1</td>\n",
       "    </tr>\n",
       "    <tr>\n",
       "      <th>11</th>\n",
       "      <td>2016-02-01</td>\n",
       "      <td>5</td>\n",
       "      <td>29</td>\n",
       "      <td>Male</td>\n",
       "      <td>C9</td>\n",
       "      <td>College</td>\n",
       "      <td>46368</td>\n",
       "      <td>2016-01-09</td>\n",
       "      <td>NaN</td>\n",
       "      <td>1</td>\n",
       "      <td>1</td>\n",
       "      <td>120360</td>\n",
       "      <td>1</td>\n",
       "    </tr>\n",
       "  </tbody>\n",
       "</table>\n",
       "</div>"
      ],
      "text/plain": [
       "        MMM-YY  Emp_ID  Age Gender City Education_Level  Salary Dateofjoining  \\\n",
       "0   2016-01-01       1   28   Male  C23          Master   57387    2015-12-24   \n",
       "1   2016-02-01       1   28   Male  C23          Master   57387    2015-12-24   \n",
       "2   2016-03-01       1   28   Male  C23          Master   57387    2015-12-24   \n",
       "5   2016-12-01       4   43   Male  C13          Master   65603    2016-12-07   \n",
       "6   2017-01-01       4   43   Male  C13          Master   65603    2016-12-07   \n",
       "7   2017-02-01       4   43   Male  C13          Master   65603    2016-12-07   \n",
       "8   2017-03-01       4   43   Male  C13          Master   65603    2016-12-07   \n",
       "9   2017-04-01       4   43   Male  C13          Master   65603    2016-12-07   \n",
       "10  2016-01-01       5   29   Male   C9         College   46368    2016-01-09   \n",
       "11  2016-02-01       5   29   Male   C9         College   46368    2016-01-09   \n",
       "\n",
       "   LastWorkingDate  Joining Designation  Designation  Total Business Value  \\\n",
       "0              NaN                    1            1               2381060   \n",
       "1              NaN                    1            1               -665480   \n",
       "2       2016-03-11                    1            1                     0   \n",
       "5              NaN                    2            2                     0   \n",
       "6              NaN                    2            2                     0   \n",
       "7              NaN                    2            2                     0   \n",
       "8              NaN                    2            2                350000   \n",
       "9       2017-04-27                    2            2                     0   \n",
       "10             NaN                    1            1                     0   \n",
       "11             NaN                    1            1                120360   \n",
       "\n",
       "    Quarterly Rating  \n",
       "0                  2  \n",
       "1                  2  \n",
       "2                  2  \n",
       "5                  1  \n",
       "6                  1  \n",
       "7                  1  \n",
       "8                  1  \n",
       "9                  1  \n",
       "10                 1  \n",
       "11                 1  "
      ]
     },
     "execution_count": 12,
     "metadata": {},
     "output_type": "execute_result"
    }
   ],
   "source": [
    "data.head(10)"
   ]
  },
  {
   "cell_type": "code",
   "execution_count": 13,
   "id": "6295e18a",
   "metadata": {},
   "outputs": [],
   "source": [
    "data.rename(columns = {'MMM-YY': 'RD', 'Dateofjoining': 'JD'}, inplace = True)\n",
    "test.rename(columns = {'MMM-YY': 'RD', 'Dateofjoining': 'JD'}, inplace = True)"
   ]
  },
  {
   "cell_type": "code",
   "execution_count": 14,
   "id": "a96eab8e",
   "metadata": {},
   "outputs": [],
   "source": [
    "#### Analzing Reporting Date, Joining Date, Last Working Date, Quarterly Rating"
   ]
  },
  {
   "cell_type": "code",
   "execution_count": 15,
   "id": "f2580c21",
   "metadata": {},
   "outputs": [
    {
     "data": {
      "text/html": [
       "<div>\n",
       "<style scoped>\n",
       "    .dataframe tbody tr th:only-of-type {\n",
       "        vertical-align: middle;\n",
       "    }\n",
       "\n",
       "    .dataframe tbody tr th {\n",
       "        vertical-align: top;\n",
       "    }\n",
       "\n",
       "    .dataframe thead th {\n",
       "        text-align: right;\n",
       "    }\n",
       "</style>\n",
       "<table border=\"1\" class=\"dataframe\">\n",
       "  <thead>\n",
       "    <tr style=\"text-align: right;\">\n",
       "      <th></th>\n",
       "      <th>Emp_ID</th>\n",
       "      <th>RD</th>\n",
       "      <th>JD</th>\n",
       "      <th>LastWorkingDate</th>\n",
       "      <th>Total Business Value</th>\n",
       "      <th>Quarterly Rating</th>\n",
       "    </tr>\n",
       "  </thead>\n",
       "  <tbody>\n",
       "    <tr>\n",
       "      <th>0</th>\n",
       "      <td>1</td>\n",
       "      <td>2016-01-01</td>\n",
       "      <td>2015-12-24</td>\n",
       "      <td>NaN</td>\n",
       "      <td>2381060</td>\n",
       "      <td>2</td>\n",
       "    </tr>\n",
       "    <tr>\n",
       "      <th>1</th>\n",
       "      <td>1</td>\n",
       "      <td>2016-02-01</td>\n",
       "      <td>2015-12-24</td>\n",
       "      <td>NaN</td>\n",
       "      <td>-665480</td>\n",
       "      <td>2</td>\n",
       "    </tr>\n",
       "    <tr>\n",
       "      <th>2</th>\n",
       "      <td>1</td>\n",
       "      <td>2016-03-01</td>\n",
       "      <td>2015-12-24</td>\n",
       "      <td>2016-03-11</td>\n",
       "      <td>0</td>\n",
       "      <td>2</td>\n",
       "    </tr>\n",
       "    <tr>\n",
       "      <th>5</th>\n",
       "      <td>4</td>\n",
       "      <td>2016-12-01</td>\n",
       "      <td>2016-12-07</td>\n",
       "      <td>NaN</td>\n",
       "      <td>0</td>\n",
       "      <td>1</td>\n",
       "    </tr>\n",
       "    <tr>\n",
       "      <th>6</th>\n",
       "      <td>4</td>\n",
       "      <td>2017-01-01</td>\n",
       "      <td>2016-12-07</td>\n",
       "      <td>NaN</td>\n",
       "      <td>0</td>\n",
       "      <td>1</td>\n",
       "    </tr>\n",
       "    <tr>\n",
       "      <th>7</th>\n",
       "      <td>4</td>\n",
       "      <td>2017-02-01</td>\n",
       "      <td>2016-12-07</td>\n",
       "      <td>NaN</td>\n",
       "      <td>0</td>\n",
       "      <td>1</td>\n",
       "    </tr>\n",
       "    <tr>\n",
       "      <th>8</th>\n",
       "      <td>4</td>\n",
       "      <td>2017-03-01</td>\n",
       "      <td>2016-12-07</td>\n",
       "      <td>NaN</td>\n",
       "      <td>350000</td>\n",
       "      <td>1</td>\n",
       "    </tr>\n",
       "    <tr>\n",
       "      <th>9</th>\n",
       "      <td>4</td>\n",
       "      <td>2017-04-01</td>\n",
       "      <td>2016-12-07</td>\n",
       "      <td>2017-04-27</td>\n",
       "      <td>0</td>\n",
       "      <td>1</td>\n",
       "    </tr>\n",
       "    <tr>\n",
       "      <th>10</th>\n",
       "      <td>5</td>\n",
       "      <td>2016-01-01</td>\n",
       "      <td>2016-01-09</td>\n",
       "      <td>NaN</td>\n",
       "      <td>0</td>\n",
       "      <td>1</td>\n",
       "    </tr>\n",
       "    <tr>\n",
       "      <th>11</th>\n",
       "      <td>5</td>\n",
       "      <td>2016-02-01</td>\n",
       "      <td>2016-01-09</td>\n",
       "      <td>NaN</td>\n",
       "      <td>120360</td>\n",
       "      <td>1</td>\n",
       "    </tr>\n",
       "    <tr>\n",
       "      <th>12</th>\n",
       "      <td>5</td>\n",
       "      <td>2016-03-01</td>\n",
       "      <td>2016-01-09</td>\n",
       "      <td>2016-03-07</td>\n",
       "      <td>0</td>\n",
       "      <td>1</td>\n",
       "    </tr>\n",
       "    <tr>\n",
       "      <th>18</th>\n",
       "      <td>8</td>\n",
       "      <td>2017-09-01</td>\n",
       "      <td>2017-09-19</td>\n",
       "      <td>NaN</td>\n",
       "      <td>0</td>\n",
       "      <td>1</td>\n",
       "    </tr>\n",
       "    <tr>\n",
       "      <th>19</th>\n",
       "      <td>8</td>\n",
       "      <td>2017-10-01</td>\n",
       "      <td>2017-09-19</td>\n",
       "      <td>NaN</td>\n",
       "      <td>0</td>\n",
       "      <td>1</td>\n",
       "    </tr>\n",
       "    <tr>\n",
       "      <th>20</th>\n",
       "      <td>8</td>\n",
       "      <td>2017-11-01</td>\n",
       "      <td>2017-09-19</td>\n",
       "      <td>2017-11-15</td>\n",
       "      <td>0</td>\n",
       "      <td>1</td>\n",
       "    </tr>\n",
       "    <tr>\n",
       "      <th>22</th>\n",
       "      <td>12</td>\n",
       "      <td>2016-07-01</td>\n",
       "      <td>2016-06-29</td>\n",
       "      <td>NaN</td>\n",
       "      <td>500000</td>\n",
       "      <td>4</td>\n",
       "    </tr>\n",
       "    <tr>\n",
       "      <th>23</th>\n",
       "      <td>12</td>\n",
       "      <td>2016-08-01</td>\n",
       "      <td>2016-06-29</td>\n",
       "      <td>NaN</td>\n",
       "      <td>1707180</td>\n",
       "      <td>4</td>\n",
       "    </tr>\n",
       "    <tr>\n",
       "      <th>24</th>\n",
       "      <td>12</td>\n",
       "      <td>2016-09-01</td>\n",
       "      <td>2016-06-29</td>\n",
       "      <td>NaN</td>\n",
       "      <td>400000</td>\n",
       "      <td>4</td>\n",
       "    </tr>\n",
       "    <tr>\n",
       "      <th>25</th>\n",
       "      <td>12</td>\n",
       "      <td>2016-10-01</td>\n",
       "      <td>2016-06-29</td>\n",
       "      <td>NaN</td>\n",
       "      <td>0</td>\n",
       "      <td>1</td>\n",
       "    </tr>\n",
       "    <tr>\n",
       "      <th>26</th>\n",
       "      <td>12</td>\n",
       "      <td>2016-11-01</td>\n",
       "      <td>2016-06-29</td>\n",
       "      <td>NaN</td>\n",
       "      <td>0</td>\n",
       "      <td>1</td>\n",
       "    </tr>\n",
       "    <tr>\n",
       "      <th>27</th>\n",
       "      <td>12</td>\n",
       "      <td>2016-12-01</td>\n",
       "      <td>2016-06-29</td>\n",
       "      <td>2016-12-21</td>\n",
       "      <td>0</td>\n",
       "      <td>1</td>\n",
       "    </tr>\n",
       "  </tbody>\n",
       "</table>\n",
       "</div>"
      ],
      "text/plain": [
       "    Emp_ID          RD          JD LastWorkingDate  Total Business Value  \\\n",
       "0        1  2016-01-01  2015-12-24             NaN               2381060   \n",
       "1        1  2016-02-01  2015-12-24             NaN               -665480   \n",
       "2        1  2016-03-01  2015-12-24      2016-03-11                     0   \n",
       "5        4  2016-12-01  2016-12-07             NaN                     0   \n",
       "6        4  2017-01-01  2016-12-07             NaN                     0   \n",
       "7        4  2017-02-01  2016-12-07             NaN                     0   \n",
       "8        4  2017-03-01  2016-12-07             NaN                350000   \n",
       "9        4  2017-04-01  2016-12-07      2017-04-27                     0   \n",
       "10       5  2016-01-01  2016-01-09             NaN                     0   \n",
       "11       5  2016-02-01  2016-01-09             NaN                120360   \n",
       "12       5  2016-03-01  2016-01-09      2016-03-07                     0   \n",
       "18       8  2017-09-01  2017-09-19             NaN                     0   \n",
       "19       8  2017-10-01  2017-09-19             NaN                     0   \n",
       "20       8  2017-11-01  2017-09-19      2017-11-15                     0   \n",
       "22      12  2016-07-01  2016-06-29             NaN                500000   \n",
       "23      12  2016-08-01  2016-06-29             NaN               1707180   \n",
       "24      12  2016-09-01  2016-06-29             NaN                400000   \n",
       "25      12  2016-10-01  2016-06-29             NaN                     0   \n",
       "26      12  2016-11-01  2016-06-29             NaN                     0   \n",
       "27      12  2016-12-01  2016-06-29      2016-12-21                     0   \n",
       "\n",
       "    Quarterly Rating  \n",
       "0                  2  \n",
       "1                  2  \n",
       "2                  2  \n",
       "5                  1  \n",
       "6                  1  \n",
       "7                  1  \n",
       "8                  1  \n",
       "9                  1  \n",
       "10                 1  \n",
       "11                 1  \n",
       "12                 1  \n",
       "18                 1  \n",
       "19                 1  \n",
       "20                 1  \n",
       "22                 4  \n",
       "23                 4  \n",
       "24                 4  \n",
       "25                 1  \n",
       "26                 1  \n",
       "27                 1  "
      ]
     },
     "execution_count": 15,
     "metadata": {},
     "output_type": "execute_result"
    }
   ],
   "source": [
    "data[['Emp_ID','RD','JD','LastWorkingDate','Total Business Value','Quarterly Rating']].head(20)"
   ]
  },
  {
   "cell_type": "code",
   "execution_count": 16,
   "id": "8877345c",
   "metadata": {},
   "outputs": [
    {
     "data": {
      "text/html": [
       "<div>\n",
       "<style scoped>\n",
       "    .dataframe tbody tr th:only-of-type {\n",
       "        vertical-align: middle;\n",
       "    }\n",
       "\n",
       "    .dataframe tbody tr th {\n",
       "        vertical-align: top;\n",
       "    }\n",
       "\n",
       "    .dataframe thead th {\n",
       "        text-align: right;\n",
       "    }\n",
       "</style>\n",
       "<table border=\"1\" class=\"dataframe\">\n",
       "  <thead>\n",
       "    <tr style=\"text-align: right;\">\n",
       "      <th></th>\n",
       "      <th>Emp_ID</th>\n",
       "      <th>RD</th>\n",
       "      <th>JD</th>\n",
       "      <th>LastWorkingDate</th>\n",
       "      <th>Total Business Value</th>\n",
       "      <th>Quarterly Rating</th>\n",
       "    </tr>\n",
       "  </thead>\n",
       "  <tbody>\n",
       "    <tr>\n",
       "      <th>0</th>\n",
       "      <td>394</td>\n",
       "      <td>2016-01-01</td>\n",
       "      <td>2011-06-06</td>\n",
       "      <td>NaN</td>\n",
       "      <td>189360</td>\n",
       "      <td>1</td>\n",
       "    </tr>\n",
       "    <tr>\n",
       "      <th>1</th>\n",
       "      <td>394</td>\n",
       "      <td>2016-02-01</td>\n",
       "      <td>2011-06-06</td>\n",
       "      <td>NaN</td>\n",
       "      <td>390810</td>\n",
       "      <td>1</td>\n",
       "    </tr>\n",
       "    <tr>\n",
       "      <th>2</th>\n",
       "      <td>394</td>\n",
       "      <td>2016-03-01</td>\n",
       "      <td>2011-06-06</td>\n",
       "      <td>NaN</td>\n",
       "      <td>1846360</td>\n",
       "      <td>1</td>\n",
       "    </tr>\n",
       "    <tr>\n",
       "      <th>3</th>\n",
       "      <td>394</td>\n",
       "      <td>2016-04-01</td>\n",
       "      <td>2011-06-06</td>\n",
       "      <td>NaN</td>\n",
       "      <td>194010</td>\n",
       "      <td>2</td>\n",
       "    </tr>\n",
       "    <tr>\n",
       "      <th>4</th>\n",
       "      <td>394</td>\n",
       "      <td>2016-05-01</td>\n",
       "      <td>2011-06-06</td>\n",
       "      <td>NaN</td>\n",
       "      <td>371160</td>\n",
       "      <td>2</td>\n",
       "    </tr>\n",
       "    <tr>\n",
       "      <th>5</th>\n",
       "      <td>394</td>\n",
       "      <td>2016-06-01</td>\n",
       "      <td>2011-06-06</td>\n",
       "      <td>NaN</td>\n",
       "      <td>427870</td>\n",
       "      <td>2</td>\n",
       "    </tr>\n",
       "    <tr>\n",
       "      <th>6</th>\n",
       "      <td>394</td>\n",
       "      <td>2016-07-01</td>\n",
       "      <td>2011-06-06</td>\n",
       "      <td>NaN</td>\n",
       "      <td>1320640</td>\n",
       "      <td>3</td>\n",
       "    </tr>\n",
       "    <tr>\n",
       "      <th>7</th>\n",
       "      <td>394</td>\n",
       "      <td>2016-08-01</td>\n",
       "      <td>2011-06-06</td>\n",
       "      <td>NaN</td>\n",
       "      <td>819300</td>\n",
       "      <td>3</td>\n",
       "    </tr>\n",
       "    <tr>\n",
       "      <th>8</th>\n",
       "      <td>394</td>\n",
       "      <td>2016-09-01</td>\n",
       "      <td>2011-06-06</td>\n",
       "      <td>NaN</td>\n",
       "      <td>1816560</td>\n",
       "      <td>3</td>\n",
       "    </tr>\n",
       "    <tr>\n",
       "      <th>9</th>\n",
       "      <td>394</td>\n",
       "      <td>2016-10-01</td>\n",
       "      <td>2011-06-06</td>\n",
       "      <td>NaN</td>\n",
       "      <td>4687690</td>\n",
       "      <td>3</td>\n",
       "    </tr>\n",
       "    <tr>\n",
       "      <th>10</th>\n",
       "      <td>394</td>\n",
       "      <td>2016-11-01</td>\n",
       "      <td>2011-06-06</td>\n",
       "      <td>NaN</td>\n",
       "      <td>150390</td>\n",
       "      <td>3</td>\n",
       "    </tr>\n",
       "    <tr>\n",
       "      <th>11</th>\n",
       "      <td>394</td>\n",
       "      <td>2016-12-01</td>\n",
       "      <td>2011-06-06</td>\n",
       "      <td>NaN</td>\n",
       "      <td>754670</td>\n",
       "      <td>3</td>\n",
       "    </tr>\n",
       "    <tr>\n",
       "      <th>12</th>\n",
       "      <td>394</td>\n",
       "      <td>2017-01-01</td>\n",
       "      <td>2011-06-06</td>\n",
       "      <td>NaN</td>\n",
       "      <td>1010420</td>\n",
       "      <td>2</td>\n",
       "    </tr>\n",
       "    <tr>\n",
       "      <th>13</th>\n",
       "      <td>394</td>\n",
       "      <td>2017-02-01</td>\n",
       "      <td>2011-06-06</td>\n",
       "      <td>NaN</td>\n",
       "      <td>1153140</td>\n",
       "      <td>2</td>\n",
       "    </tr>\n",
       "    <tr>\n",
       "      <th>14</th>\n",
       "      <td>394</td>\n",
       "      <td>2017-03-01</td>\n",
       "      <td>2011-06-06</td>\n",
       "      <td>NaN</td>\n",
       "      <td>3643640</td>\n",
       "      <td>2</td>\n",
       "    </tr>\n",
       "    <tr>\n",
       "      <th>15</th>\n",
       "      <td>394</td>\n",
       "      <td>2017-04-01</td>\n",
       "      <td>2011-06-06</td>\n",
       "      <td>NaN</td>\n",
       "      <td>150900</td>\n",
       "      <td>1</td>\n",
       "    </tr>\n",
       "    <tr>\n",
       "      <th>16</th>\n",
       "      <td>394</td>\n",
       "      <td>2017-05-01</td>\n",
       "      <td>2011-06-06</td>\n",
       "      <td>NaN</td>\n",
       "      <td>200000</td>\n",
       "      <td>1</td>\n",
       "    </tr>\n",
       "    <tr>\n",
       "      <th>17</th>\n",
       "      <td>394</td>\n",
       "      <td>2017-06-01</td>\n",
       "      <td>2011-06-06</td>\n",
       "      <td>NaN</td>\n",
       "      <td>300000</td>\n",
       "      <td>1</td>\n",
       "    </tr>\n",
       "    <tr>\n",
       "      <th>18</th>\n",
       "      <td>394</td>\n",
       "      <td>2017-07-01</td>\n",
       "      <td>2011-06-06</td>\n",
       "      <td>NaN</td>\n",
       "      <td>908260</td>\n",
       "      <td>2</td>\n",
       "    </tr>\n",
       "    <tr>\n",
       "      <th>19</th>\n",
       "      <td>394</td>\n",
       "      <td>2017-08-01</td>\n",
       "      <td>2011-06-06</td>\n",
       "      <td>NaN</td>\n",
       "      <td>454590</td>\n",
       "      <td>2</td>\n",
       "    </tr>\n",
       "  </tbody>\n",
       "</table>\n",
       "</div>"
      ],
      "text/plain": [
       "    Emp_ID          RD          JD LastWorkingDate  Total Business Value  \\\n",
       "0      394  2016-01-01  2011-06-06             NaN                189360   \n",
       "1      394  2016-02-01  2011-06-06             NaN                390810   \n",
       "2      394  2016-03-01  2011-06-06             NaN               1846360   \n",
       "3      394  2016-04-01  2011-06-06             NaN                194010   \n",
       "4      394  2016-05-01  2011-06-06             NaN                371160   \n",
       "5      394  2016-06-01  2011-06-06             NaN                427870   \n",
       "6      394  2016-07-01  2011-06-06             NaN               1320640   \n",
       "7      394  2016-08-01  2011-06-06             NaN                819300   \n",
       "8      394  2016-09-01  2011-06-06             NaN               1816560   \n",
       "9      394  2016-10-01  2011-06-06             NaN               4687690   \n",
       "10     394  2016-11-01  2011-06-06             NaN                150390   \n",
       "11     394  2016-12-01  2011-06-06             NaN                754670   \n",
       "12     394  2017-01-01  2011-06-06             NaN               1010420   \n",
       "13     394  2017-02-01  2011-06-06             NaN               1153140   \n",
       "14     394  2017-03-01  2011-06-06             NaN               3643640   \n",
       "15     394  2017-04-01  2011-06-06             NaN                150900   \n",
       "16     394  2017-05-01  2011-06-06             NaN                200000   \n",
       "17     394  2017-06-01  2011-06-06             NaN                300000   \n",
       "18     394  2017-07-01  2011-06-06             NaN                908260   \n",
       "19     394  2017-08-01  2011-06-06             NaN                454590   \n",
       "\n",
       "    Quarterly Rating  \n",
       "0                  1  \n",
       "1                  1  \n",
       "2                  1  \n",
       "3                  2  \n",
       "4                  2  \n",
       "5                  2  \n",
       "6                  3  \n",
       "7                  3  \n",
       "8                  3  \n",
       "9                  3  \n",
       "10                 3  \n",
       "11                 3  \n",
       "12                 2  \n",
       "13                 2  \n",
       "14                 2  \n",
       "15                 1  \n",
       "16                 1  \n",
       "17                 1  \n",
       "18                 2  \n",
       "19                 2  "
      ]
     },
     "execution_count": 16,
     "metadata": {},
     "output_type": "execute_result"
    }
   ],
   "source": [
    "test[['Emp_ID','RD','JD','LastWorkingDate','Total Business Value','Quarterly Rating']].head(20)"
   ]
  },
  {
   "cell_type": "code",
   "execution_count": 17,
   "id": "e3040142",
   "metadata": {},
   "outputs": [
    {
     "data": {
      "text/plain": [
       "(1640, 13)"
      ]
     },
     "execution_count": 17,
     "metadata": {},
     "output_type": "execute_result"
    }
   ],
   "source": [
    "data_TBV = data.groupby(['Emp_ID'])['Total Business Value'].sum().reset_index()\n",
    "data_TBV.rename(columns = {'Total Business Value':'TBV'}, inplace = True)\n",
    "data = pd.merge(data, data_TBV, how = 'inner', on = 'Emp_ID')\n",
    "data_QR = data.groupby(['Emp_ID'])['Quarterly Rating'].mean().reset_index()\n",
    "data_QR.rename(columns = {'Quarterly Rating':'QR'}, inplace = True)\n",
    "data = pd.merge(data, data_QR, how = 'inner', on = 'Emp_ID')\n",
    "data.fillna(value = '9999-99-99', inplace = True)\n",
    "data_LWD = data.groupby(['Emp_ID'])['LastWorkingDate'].min().reset_index()\n",
    "data_LWD.rename(columns = {'LastWorkingDate': 'LWD'}, inplace = True)\n",
    "data = pd.merge(data, data_LWD, how = 'inner', on = 'Emp_ID')\n",
    "data.drop(['Total Business Value', 'LastWorkingDate', 'Quarterly Rating'], axis = 1, inplace = True)\n",
    "data.drop_duplicates(subset = ['Emp_ID'], keep = 'first', inplace = True)\n",
    "data.shape"
   ]
  },
  {
   "cell_type": "code",
   "execution_count": 18,
   "id": "938984fd",
   "metadata": {
    "scrolled": true
   },
   "outputs": [
    {
     "data": {
      "text/html": [
       "<div>\n",
       "<style scoped>\n",
       "    .dataframe tbody tr th:only-of-type {\n",
       "        vertical-align: middle;\n",
       "    }\n",
       "\n",
       "    .dataframe tbody tr th {\n",
       "        vertical-align: top;\n",
       "    }\n",
       "\n",
       "    .dataframe thead th {\n",
       "        text-align: right;\n",
       "    }\n",
       "</style>\n",
       "<table border=\"1\" class=\"dataframe\">\n",
       "  <thead>\n",
       "    <tr style=\"text-align: right;\">\n",
       "      <th></th>\n",
       "      <th>RD</th>\n",
       "      <th>Emp_ID</th>\n",
       "      <th>Age</th>\n",
       "      <th>Gender</th>\n",
       "      <th>City</th>\n",
       "      <th>Education_Level</th>\n",
       "      <th>Salary</th>\n",
       "      <th>JD</th>\n",
       "      <th>Joining Designation</th>\n",
       "      <th>Designation</th>\n",
       "      <th>TBV</th>\n",
       "      <th>QR</th>\n",
       "      <th>LWD</th>\n",
       "    </tr>\n",
       "  </thead>\n",
       "  <tbody>\n",
       "    <tr>\n",
       "      <th>0</th>\n",
       "      <td>2016-01-01</td>\n",
       "      <td>1</td>\n",
       "      <td>28</td>\n",
       "      <td>Male</td>\n",
       "      <td>C23</td>\n",
       "      <td>Master</td>\n",
       "      <td>57387</td>\n",
       "      <td>2015-12-24</td>\n",
       "      <td>1</td>\n",
       "      <td>1</td>\n",
       "      <td>1715580</td>\n",
       "      <td>2.0</td>\n",
       "      <td>2016-03-11</td>\n",
       "    </tr>\n",
       "    <tr>\n",
       "      <th>3</th>\n",
       "      <td>2016-12-01</td>\n",
       "      <td>4</td>\n",
       "      <td>43</td>\n",
       "      <td>Male</td>\n",
       "      <td>C13</td>\n",
       "      <td>Master</td>\n",
       "      <td>65603</td>\n",
       "      <td>2016-12-07</td>\n",
       "      <td>2</td>\n",
       "      <td>2</td>\n",
       "      <td>350000</td>\n",
       "      <td>1.0</td>\n",
       "      <td>2017-04-27</td>\n",
       "    </tr>\n",
       "    <tr>\n",
       "      <th>8</th>\n",
       "      <td>2016-01-01</td>\n",
       "      <td>5</td>\n",
       "      <td>29</td>\n",
       "      <td>Male</td>\n",
       "      <td>C9</td>\n",
       "      <td>College</td>\n",
       "      <td>46368</td>\n",
       "      <td>2016-01-09</td>\n",
       "      <td>1</td>\n",
       "      <td>1</td>\n",
       "      <td>120360</td>\n",
       "      <td>1.0</td>\n",
       "      <td>2016-03-07</td>\n",
       "    </tr>\n",
       "    <tr>\n",
       "      <th>11</th>\n",
       "      <td>2017-09-01</td>\n",
       "      <td>8</td>\n",
       "      <td>34</td>\n",
       "      <td>Male</td>\n",
       "      <td>C2</td>\n",
       "      <td>College</td>\n",
       "      <td>70656</td>\n",
       "      <td>2017-09-19</td>\n",
       "      <td>3</td>\n",
       "      <td>3</td>\n",
       "      <td>0</td>\n",
       "      <td>1.0</td>\n",
       "      <td>2017-11-15</td>\n",
       "    </tr>\n",
       "    <tr>\n",
       "      <th>14</th>\n",
       "      <td>2016-07-01</td>\n",
       "      <td>12</td>\n",
       "      <td>35</td>\n",
       "      <td>Male</td>\n",
       "      <td>C23</td>\n",
       "      <td>Master</td>\n",
       "      <td>28116</td>\n",
       "      <td>2016-06-29</td>\n",
       "      <td>1</td>\n",
       "      <td>1</td>\n",
       "      <td>2607180</td>\n",
       "      <td>2.5</td>\n",
       "      <td>2016-12-21</td>\n",
       "    </tr>\n",
       "  </tbody>\n",
       "</table>\n",
       "</div>"
      ],
      "text/plain": [
       "            RD  Emp_ID  Age Gender City Education_Level  Salary          JD  \\\n",
       "0   2016-01-01       1   28   Male  C23          Master   57387  2015-12-24   \n",
       "3   2016-12-01       4   43   Male  C13          Master   65603  2016-12-07   \n",
       "8   2016-01-01       5   29   Male   C9         College   46368  2016-01-09   \n",
       "11  2017-09-01       8   34   Male   C2         College   70656  2017-09-19   \n",
       "14  2016-07-01      12   35   Male  C23          Master   28116  2016-06-29   \n",
       "\n",
       "    Joining Designation  Designation      TBV   QR         LWD  \n",
       "0                     1            1  1715580  2.0  2016-03-11  \n",
       "3                     2            2   350000  1.0  2017-04-27  \n",
       "8                     1            1   120360  1.0  2016-03-07  \n",
       "11                    3            3        0  1.0  2017-11-15  \n",
       "14                    1            1  2607180  2.5  2016-12-21  "
      ]
     },
     "execution_count": 18,
     "metadata": {},
     "output_type": "execute_result"
    }
   ],
   "source": [
    "data.head()"
   ]
  },
  {
   "cell_type": "code",
   "execution_count": 19,
   "id": "cb9fd59c",
   "metadata": {},
   "outputs": [
    {
     "data": {
      "text/plain": [
       "['9999-99-99',\n",
       " '2017-12-28',\n",
       " '2017-12-27',\n",
       " '2017-12-26',\n",
       " '2017-12-25',\n",
       " '2017-12-23',\n",
       " '2017-12-21',\n",
       " '2017-12-20',\n",
       " '2017-12-19',\n",
       " '2017-12-18']"
      ]
     },
     "execution_count": 19,
     "metadata": {},
     "output_type": "execute_result"
    }
   ],
   "source": [
    "sorted(data['LWD'].unique(), reverse = True)[0:10]"
   ]
  },
  {
   "cell_type": "code",
   "execution_count": 20,
   "id": "e44447ae",
   "metadata": {},
   "outputs": [],
   "source": [
    "# As, we can see above RD is adjusted to nearby month and year. "
   ]
  },
  {
   "cell_type": "code",
   "execution_count": 21,
   "id": "1c2f0a46",
   "metadata": {
    "scrolled": true
   },
   "outputs": [
    {
     "data": {
      "text/plain": [
       "True     1616\n",
       "False      24\n",
       "Name: resigned, dtype: int64"
      ]
     },
     "execution_count": 21,
     "metadata": {},
     "output_type": "execute_result"
    }
   ],
   "source": [
    "data['resigned'] = (data['LWD'] != '9999-99-99')\n",
    "data['resigned'].value_counts()"
   ]
  },
  {
   "cell_type": "code",
   "execution_count": 22,
   "id": "fb88fdc5",
   "metadata": {},
   "outputs": [
    {
     "data": {
      "text/plain": [
       "(741, 13)"
      ]
     },
     "execution_count": 22,
     "metadata": {},
     "output_type": "execute_result"
    }
   ],
   "source": [
    "test_TBV = test.groupby(['Emp_ID'])['Total Business Value'].sum().reset_index()\n",
    "test_TBV.rename(columns = {'Total Business Value':'TBV'}, inplace = True)\n",
    "test = pd.merge(test, test_TBV, how = 'inner', on = 'Emp_ID')\n",
    "test_QR = test.groupby(['Emp_ID'])['Quarterly Rating'].mean().reset_index()\n",
    "test_QR.rename(columns = {'Quarterly Rating':'QR'}, inplace = True)\n",
    "test = pd.merge(test, test_QR, how = 'inner', on = 'Emp_ID')\n",
    "test.drop_duplicates(subset = ['Emp_ID'], keep = 'first', inplace = True)\n",
    "test.rename(columns = {'LastWorkingDate': 'LWD'}, inplace = True)\n",
    "test.drop(['Total Business Value', 'Quarterly Rating'], axis = 1, inplace = True)\n",
    "test.shape"
   ]
  },
  {
   "cell_type": "code",
   "execution_count": 23,
   "id": "7e243c30",
   "metadata": {},
   "outputs": [
    {
     "data": {
      "text/html": [
       "<div>\n",
       "<style scoped>\n",
       "    .dataframe tbody tr th:only-of-type {\n",
       "        vertical-align: middle;\n",
       "    }\n",
       "\n",
       "    .dataframe tbody tr th {\n",
       "        vertical-align: top;\n",
       "    }\n",
       "\n",
       "    .dataframe thead th {\n",
       "        text-align: right;\n",
       "    }\n",
       "</style>\n",
       "<table border=\"1\" class=\"dataframe\">\n",
       "  <thead>\n",
       "    <tr style=\"text-align: right;\">\n",
       "      <th></th>\n",
       "      <th>Emp_ID</th>\n",
       "      <th>RD</th>\n",
       "      <th>Age</th>\n",
       "      <th>Gender</th>\n",
       "      <th>City</th>\n",
       "      <th>Education_Level</th>\n",
       "      <th>Salary</th>\n",
       "      <th>JD</th>\n",
       "      <th>LWD</th>\n",
       "      <th>Joining Designation</th>\n",
       "      <th>Designation</th>\n",
       "      <th>TBV</th>\n",
       "      <th>QR</th>\n",
       "    </tr>\n",
       "  </thead>\n",
       "  <tbody>\n",
       "    <tr>\n",
       "      <th>0</th>\n",
       "      <td>394</td>\n",
       "      <td>2016-01-01</td>\n",
       "      <td>32</td>\n",
       "      <td>Female</td>\n",
       "      <td>C20</td>\n",
       "      <td>Master</td>\n",
       "      <td>97722</td>\n",
       "      <td>2011-06-06</td>\n",
       "      <td>NaN</td>\n",
       "      <td>2</td>\n",
       "      <td>4</td>\n",
       "      <td>27458220</td>\n",
       "      <td>2.125</td>\n",
       "    </tr>\n",
       "    <tr>\n",
       "      <th>24</th>\n",
       "      <td>173</td>\n",
       "      <td>2016-01-01</td>\n",
       "      <td>37</td>\n",
       "      <td>Male</td>\n",
       "      <td>C28</td>\n",
       "      <td>College</td>\n",
       "      <td>56174</td>\n",
       "      <td>2011-06-13</td>\n",
       "      <td>NaN</td>\n",
       "      <td>1</td>\n",
       "      <td>3</td>\n",
       "      <td>19866290</td>\n",
       "      <td>2.750</td>\n",
       "    </tr>\n",
       "    <tr>\n",
       "      <th>48</th>\n",
       "      <td>1090</td>\n",
       "      <td>2016-01-01</td>\n",
       "      <td>37</td>\n",
       "      <td>Male</td>\n",
       "      <td>C13</td>\n",
       "      <td>College</td>\n",
       "      <td>96750</td>\n",
       "      <td>2011-06-27</td>\n",
       "      <td>NaN</td>\n",
       "      <td>2</td>\n",
       "      <td>4</td>\n",
       "      <td>50382490</td>\n",
       "      <td>2.750</td>\n",
       "    </tr>\n",
       "    <tr>\n",
       "      <th>72</th>\n",
       "      <td>840</td>\n",
       "      <td>2016-01-01</td>\n",
       "      <td>39</td>\n",
       "      <td>Female</td>\n",
       "      <td>C8</td>\n",
       "      <td>College</td>\n",
       "      <td>88813</td>\n",
       "      <td>2011-07-11</td>\n",
       "      <td>NaN</td>\n",
       "      <td>1</td>\n",
       "      <td>4</td>\n",
       "      <td>17134040</td>\n",
       "      <td>1.500</td>\n",
       "    </tr>\n",
       "    <tr>\n",
       "      <th>96</th>\n",
       "      <td>308</td>\n",
       "      <td>2016-01-01</td>\n",
       "      <td>30</td>\n",
       "      <td>Male</td>\n",
       "      <td>C5</td>\n",
       "      <td>Master</td>\n",
       "      <td>188418</td>\n",
       "      <td>2011-08-15</td>\n",
       "      <td>NaN</td>\n",
       "      <td>2</td>\n",
       "      <td>5</td>\n",
       "      <td>58024490</td>\n",
       "      <td>2.625</td>\n",
       "    </tr>\n",
       "  </tbody>\n",
       "</table>\n",
       "</div>"
      ],
      "text/plain": [
       "    Emp_ID          RD  Age  Gender City Education_Level  Salary          JD  \\\n",
       "0      394  2016-01-01   32  Female  C20          Master   97722  2011-06-06   \n",
       "24     173  2016-01-01   37    Male  C28         College   56174  2011-06-13   \n",
       "48    1090  2016-01-01   37    Male  C13         College   96750  2011-06-27   \n",
       "72     840  2016-01-01   39  Female   C8         College   88813  2011-07-11   \n",
       "96     308  2016-01-01   30    Male   C5          Master  188418  2011-08-15   \n",
       "\n",
       "    LWD  Joining Designation  Designation       TBV     QR  \n",
       "0   NaN                    2            4  27458220  2.125  \n",
       "24  NaN                    1            3  19866290  2.750  \n",
       "48  NaN                    2            4  50382490  2.750  \n",
       "72  NaN                    1            4  17134040  1.500  \n",
       "96  NaN                    2            5  58024490  2.625  "
      ]
     },
     "execution_count": 23,
     "metadata": {},
     "output_type": "execute_result"
    }
   ],
   "source": [
    "test.head()"
   ]
  },
  {
   "cell_type": "code",
   "execution_count": 24,
   "id": "ed00dc01",
   "metadata": {},
   "outputs": [
    {
     "name": "stdout",
     "output_type": "stream",
     "text": [
      "There are 1640 rows and 14 columns in the given data\n",
      "There are 741 rows and 13 columns in test\n"
     ]
    }
   ],
   "source": [
    "print(\"There are {} rows and {} columns in the given data\".format(data.shape[0], data.shape[1]))\n",
    "print(\"There are {} rows and {} columns in test\".format(test.shape[0], test.shape[1]))"
   ]
  },
  {
   "cell_type": "code",
   "execution_count": 25,
   "id": "cc280ad4",
   "metadata": {},
   "outputs": [],
   "source": [
    "def understand_data(data) :\n",
    "    return(pd.DataFrame({\"Datatype\":data.dtypes,\"No of NAs\":data.isna().sum(),\n",
    "                         \"No of Levels\":data.apply(lambda x: x.nunique(),axis=0),\n",
    "                         \"Levels\":data.apply(lambda x: str(x.unique()),axis=0)}))"
   ]
  },
  {
   "cell_type": "code",
   "execution_count": 26,
   "id": "c7fc339e",
   "metadata": {},
   "outputs": [
    {
     "data": {
      "text/html": [
       "<div>\n",
       "<style scoped>\n",
       "    .dataframe tbody tr th:only-of-type {\n",
       "        vertical-align: middle;\n",
       "    }\n",
       "\n",
       "    .dataframe tbody tr th {\n",
       "        vertical-align: top;\n",
       "    }\n",
       "\n",
       "    .dataframe thead th {\n",
       "        text-align: right;\n",
       "    }\n",
       "</style>\n",
       "<table border=\"1\" class=\"dataframe\">\n",
       "  <thead>\n",
       "    <tr style=\"text-align: right;\">\n",
       "      <th></th>\n",
       "      <th>Datatype</th>\n",
       "      <th>No of NAs</th>\n",
       "      <th>No of Levels</th>\n",
       "      <th>Levels</th>\n",
       "    </tr>\n",
       "  </thead>\n",
       "  <tbody>\n",
       "    <tr>\n",
       "      <th>RD</th>\n",
       "      <td>object</td>\n",
       "      <td>0</td>\n",
       "      <td>24</td>\n",
       "      <td>['2016-01-01' '2016-12-01' '2017-09-01' '2016-...</td>\n",
       "    </tr>\n",
       "    <tr>\n",
       "      <th>Emp_ID</th>\n",
       "      <td>int64</td>\n",
       "      <td>0</td>\n",
       "      <td>1640</td>\n",
       "      <td>[   1    4    5 ... 2785 2786 2787]</td>\n",
       "    </tr>\n",
       "    <tr>\n",
       "      <th>Age</th>\n",
       "      <td>int64</td>\n",
       "      <td>0</td>\n",
       "      <td>33</td>\n",
       "      <td>[28 43 29 34 35 30 42 27 26 33 40 31 32 22 44 ...</td>\n",
       "    </tr>\n",
       "    <tr>\n",
       "      <th>Gender</th>\n",
       "      <td>object</td>\n",
       "      <td>0</td>\n",
       "      <td>2</td>\n",
       "      <td>['Male' 'Female']</td>\n",
       "    </tr>\n",
       "    <tr>\n",
       "      <th>City</th>\n",
       "      <td>object</td>\n",
       "      <td>0</td>\n",
       "      <td>29</td>\n",
       "      <td>['C23' 'C13' 'C9' 'C2' 'C19' 'C20' 'C17' 'C29'...</td>\n",
       "    </tr>\n",
       "    <tr>\n",
       "      <th>Education_Level</th>\n",
       "      <td>object</td>\n",
       "      <td>0</td>\n",
       "      <td>3</td>\n",
       "      <td>['Master' 'College' 'Bachelor']</td>\n",
       "    </tr>\n",
       "    <tr>\n",
       "      <th>Salary</th>\n",
       "      <td>int64</td>\n",
       "      <td>0</td>\n",
       "      <td>1614</td>\n",
       "      <td>[57387 65603 46368 ... 12105 35370 69498]</td>\n",
       "    </tr>\n",
       "    <tr>\n",
       "      <th>JD</th>\n",
       "      <td>object</td>\n",
       "      <td>0</td>\n",
       "      <td>704</td>\n",
       "      <td>['2015-12-24' '2016-12-07' '2016-01-09' '2017-...</td>\n",
       "    </tr>\n",
       "    <tr>\n",
       "      <th>Joining Designation</th>\n",
       "      <td>int64</td>\n",
       "      <td>0</td>\n",
       "      <td>5</td>\n",
       "      <td>[1 2 3 4 5]</td>\n",
       "    </tr>\n",
       "    <tr>\n",
       "      <th>Designation</th>\n",
       "      <td>int64</td>\n",
       "      <td>0</td>\n",
       "      <td>5</td>\n",
       "      <td>[1 2 3 4 5]</td>\n",
       "    </tr>\n",
       "    <tr>\n",
       "      <th>TBV</th>\n",
       "      <td>int64</td>\n",
       "      <td>0</td>\n",
       "      <td>1047</td>\n",
       "      <td>[1715580  350000  120360 ... 4284010 2815090  ...</td>\n",
       "    </tr>\n",
       "    <tr>\n",
       "      <th>QR</th>\n",
       "      <td>float64</td>\n",
       "      <td>0</td>\n",
       "      <td>137</td>\n",
       "      <td>[2.         1.         2.5        1.26086957 1...</td>\n",
       "    </tr>\n",
       "    <tr>\n",
       "      <th>LWD</th>\n",
       "      <td>object</td>\n",
       "      <td>0</td>\n",
       "      <td>494</td>\n",
       "      <td>['2016-03-11' '2017-04-27' '2016-03-07' '2017-...</td>\n",
       "    </tr>\n",
       "    <tr>\n",
       "      <th>resigned</th>\n",
       "      <td>bool</td>\n",
       "      <td>0</td>\n",
       "      <td>2</td>\n",
       "      <td>[ True False]</td>\n",
       "    </tr>\n",
       "  </tbody>\n",
       "</table>\n",
       "</div>"
      ],
      "text/plain": [
       "                    Datatype  No of NAs  No of Levels  \\\n",
       "RD                    object          0            24   \n",
       "Emp_ID                 int64          0          1640   \n",
       "Age                    int64          0            33   \n",
       "Gender                object          0             2   \n",
       "City                  object          0            29   \n",
       "Education_Level       object          0             3   \n",
       "Salary                 int64          0          1614   \n",
       "JD                    object          0           704   \n",
       "Joining Designation    int64          0             5   \n",
       "Designation            int64          0             5   \n",
       "TBV                    int64          0          1047   \n",
       "QR                   float64          0           137   \n",
       "LWD                   object          0           494   \n",
       "resigned                bool          0             2   \n",
       "\n",
       "                                                                Levels  \n",
       "RD                   ['2016-01-01' '2016-12-01' '2017-09-01' '2016-...  \n",
       "Emp_ID                             [   1    4    5 ... 2785 2786 2787]  \n",
       "Age                  [28 43 29 34 35 30 42 27 26 33 40 31 32 22 44 ...  \n",
       "Gender                                               ['Male' 'Female']  \n",
       "City                 ['C23' 'C13' 'C9' 'C2' 'C19' 'C20' 'C17' 'C29'...  \n",
       "Education_Level                        ['Master' 'College' 'Bachelor']  \n",
       "Salary                       [57387 65603 46368 ... 12105 35370 69498]  \n",
       "JD                   ['2015-12-24' '2016-12-07' '2016-01-09' '2017-...  \n",
       "Joining Designation                                        [1 2 3 4 5]  \n",
       "Designation                                                [1 2 3 4 5]  \n",
       "TBV                  [1715580  350000  120360 ... 4284010 2815090  ...  \n",
       "QR                   [2.         1.         2.5        1.26086957 1...  \n",
       "LWD                  ['2016-03-11' '2017-04-27' '2016-03-07' '2017-...  \n",
       "resigned                                                 [ True False]  "
      ]
     },
     "execution_count": 26,
     "metadata": {},
     "output_type": "execute_result"
    }
   ],
   "source": [
    "understand_data(data)"
   ]
  },
  {
   "cell_type": "code",
   "execution_count": 27,
   "id": "70caf361",
   "metadata": {},
   "outputs": [
    {
     "data": {
      "text/html": [
       "<div>\n",
       "<style scoped>\n",
       "    .dataframe tbody tr th:only-of-type {\n",
       "        vertical-align: middle;\n",
       "    }\n",
       "\n",
       "    .dataframe tbody tr th {\n",
       "        vertical-align: top;\n",
       "    }\n",
       "\n",
       "    .dataframe thead th {\n",
       "        text-align: right;\n",
       "    }\n",
       "</style>\n",
       "<table border=\"1\" class=\"dataframe\">\n",
       "  <thead>\n",
       "    <tr style=\"text-align: right;\">\n",
       "      <th></th>\n",
       "      <th>Datatype</th>\n",
       "      <th>No of NAs</th>\n",
       "      <th>No of Levels</th>\n",
       "      <th>Levels</th>\n",
       "    </tr>\n",
       "  </thead>\n",
       "  <tbody>\n",
       "    <tr>\n",
       "      <th>Emp_ID</th>\n",
       "      <td>int64</td>\n",
       "      <td>0</td>\n",
       "      <td>741</td>\n",
       "      <td>[ 394  173 1090  840  308 1864 1606  954 2422 ...</td>\n",
       "    </tr>\n",
       "    <tr>\n",
       "      <th>RD</th>\n",
       "      <td>object</td>\n",
       "      <td>0</td>\n",
       "      <td>22</td>\n",
       "      <td>['2016-01-01' '2016-02-01' '2016-04-01' '2016-...</td>\n",
       "    </tr>\n",
       "    <tr>\n",
       "      <th>Age</th>\n",
       "      <td>int64</td>\n",
       "      <td>0</td>\n",
       "      <td>34</td>\n",
       "      <td>[32 37 39 30 42 29 46 31 44 43 33 41 38 35 45 ...</td>\n",
       "    </tr>\n",
       "    <tr>\n",
       "      <th>Gender</th>\n",
       "      <td>object</td>\n",
       "      <td>0</td>\n",
       "      <td>2</td>\n",
       "      <td>['Female' 'Male']</td>\n",
       "    </tr>\n",
       "    <tr>\n",
       "      <th>City</th>\n",
       "      <td>object</td>\n",
       "      <td>0</td>\n",
       "      <td>29</td>\n",
       "      <td>['C20' 'C28' 'C13' 'C8' 'C5' 'C29' 'C12' 'C4' ...</td>\n",
       "    </tr>\n",
       "    <tr>\n",
       "      <th>Education_Level</th>\n",
       "      <td>object</td>\n",
       "      <td>0</td>\n",
       "      <td>3</td>\n",
       "      <td>['Master' 'College' 'Bachelor']</td>\n",
       "    </tr>\n",
       "    <tr>\n",
       "      <th>Salary</th>\n",
       "      <td>int64</td>\n",
       "      <td>0</td>\n",
       "      <td>736</td>\n",
       "      <td>[ 97722  56174  96750  88813 188418  85688  99...</td>\n",
       "    </tr>\n",
       "    <tr>\n",
       "      <th>JD</th>\n",
       "      <td>object</td>\n",
       "      <td>0</td>\n",
       "      <td>401</td>\n",
       "      <td>['2011-06-06' '2011-06-13' '2011-06-27' '2011-...</td>\n",
       "    </tr>\n",
       "    <tr>\n",
       "      <th>LWD</th>\n",
       "      <td>object</td>\n",
       "      <td>741</td>\n",
       "      <td>0</td>\n",
       "      <td>[nan]</td>\n",
       "    </tr>\n",
       "    <tr>\n",
       "      <th>Joining Designation</th>\n",
       "      <td>int64</td>\n",
       "      <td>0</td>\n",
       "      <td>5</td>\n",
       "      <td>[2 1 5 3 4]</td>\n",
       "    </tr>\n",
       "    <tr>\n",
       "      <th>Designation</th>\n",
       "      <td>int64</td>\n",
       "      <td>0</td>\n",
       "      <td>5</td>\n",
       "      <td>[4 3 5 2 1]</td>\n",
       "    </tr>\n",
       "    <tr>\n",
       "      <th>TBV</th>\n",
       "      <td>int64</td>\n",
       "      <td>0</td>\n",
       "      <td>586</td>\n",
       "      <td>[27458220 19866290 50382490 17134040 58024490 ...</td>\n",
       "    </tr>\n",
       "    <tr>\n",
       "      <th>QR</th>\n",
       "      <td>float64</td>\n",
       "      <td>0</td>\n",
       "      <td>97</td>\n",
       "      <td>[2.125      2.75       1.5        2.625      3...</td>\n",
       "    </tr>\n",
       "  </tbody>\n",
       "</table>\n",
       "</div>"
      ],
      "text/plain": [
       "                    Datatype  No of NAs  No of Levels  \\\n",
       "Emp_ID                 int64          0           741   \n",
       "RD                    object          0            22   \n",
       "Age                    int64          0            34   \n",
       "Gender                object          0             2   \n",
       "City                  object          0            29   \n",
       "Education_Level       object          0             3   \n",
       "Salary                 int64          0           736   \n",
       "JD                    object          0           401   \n",
       "LWD                   object        741             0   \n",
       "Joining Designation    int64          0             5   \n",
       "Designation            int64          0             5   \n",
       "TBV                    int64          0           586   \n",
       "QR                   float64          0            97   \n",
       "\n",
       "                                                                Levels  \n",
       "Emp_ID               [ 394  173 1090  840  308 1864 1606  954 2422 ...  \n",
       "RD                   ['2016-01-01' '2016-02-01' '2016-04-01' '2016-...  \n",
       "Age                  [32 37 39 30 42 29 46 31 44 43 33 41 38 35 45 ...  \n",
       "Gender                                               ['Female' 'Male']  \n",
       "City                 ['C20' 'C28' 'C13' 'C8' 'C5' 'C29' 'C12' 'C4' ...  \n",
       "Education_Level                        ['Master' 'College' 'Bachelor']  \n",
       "Salary               [ 97722  56174  96750  88813 188418  85688  99...  \n",
       "JD                   ['2011-06-06' '2011-06-13' '2011-06-27' '2011-...  \n",
       "LWD                                                              [nan]  \n",
       "Joining Designation                                        [2 1 5 3 4]  \n",
       "Designation                                                [4 3 5 2 1]  \n",
       "TBV                  [27458220 19866290 50382490 17134040 58024490 ...  \n",
       "QR                   [2.125      2.75       1.5        2.625      3...  "
      ]
     },
     "execution_count": 27,
     "metadata": {},
     "output_type": "execute_result"
    }
   ],
   "source": [
    "understand_data(test)"
   ]
  },
  {
   "cell_type": "markdown",
   "id": "ea506336",
   "metadata": {},
   "source": [
    "#### Data type conversion"
   ]
  },
  {
   "cell_type": "code",
   "execution_count": 28,
   "id": "0ffb0800",
   "metadata": {},
   "outputs": [],
   "source": [
    "data['LWD'].replace(to_replace = '9999-99-99', value = np.nan, inplace = True)\n",
    "data['RD'] = pd.to_datetime(data['RD'])\n",
    "data['JD'] = pd.to_datetime(data['JD'])\n",
    "data['LWD'] = pd.to_datetime(data['LWD'])\n",
    "\n",
    "test['LWD'].replace(to_replace = '9999-99-99', value = np.nan, inplace = True)\n",
    "test['RD'] = pd.to_datetime(test['RD'])\n",
    "test['JD'] = pd.to_datetime(test['JD'])\n",
    "test['LWD'] = pd.to_datetime(test['LWD'])"
   ]
  },
  {
   "cell_type": "code",
   "execution_count": 29,
   "id": "a14c5681",
   "metadata": {
    "scrolled": true
   },
   "outputs": [
    {
     "data": {
      "text/plain": [
       "RD                     datetime64[ns]\n",
       "Emp_ID                          int64\n",
       "Age                             int64\n",
       "Gender                         object\n",
       "City                           object\n",
       "Education_Level                object\n",
       "Salary                          int64\n",
       "JD                     datetime64[ns]\n",
       "Joining Designation             int64\n",
       "Designation                     int64\n",
       "TBV                             int64\n",
       "QR                            float64\n",
       "LWD                    datetime64[ns]\n",
       "resigned                         bool\n",
       "dtype: object"
      ]
     },
     "execution_count": 29,
     "metadata": {},
     "output_type": "execute_result"
    }
   ],
   "source": [
    "data.dtypes"
   ]
  },
  {
   "cell_type": "code",
   "execution_count": 30,
   "id": "2c93a271",
   "metadata": {},
   "outputs": [],
   "source": [
    "data.reset_index(drop = True, inplace = True)\n",
    "test.reset_index(drop = True, inplace = True)"
   ]
  },
  {
   "cell_type": "code",
   "execution_count": 31,
   "id": "64f4a6a4",
   "metadata": {},
   "outputs": [],
   "source": [
    "# Function to calculate no of days between reporting date and date of joining\n",
    "import datetime\n",
    "def daysbn_RD_JD(RD, JD):\n",
    "    return ((RD - JD).days)"
   ]
  },
  {
   "cell_type": "code",
   "execution_count": 32,
   "id": "0662cabd",
   "metadata": {},
   "outputs": [],
   "source": [
    "#data['daysbnRDJD'] = data[['RD', 'JD']].apply(lambda x: daysbn_RD_JD(x[0],x[1]), axis = 1)\n",
    "#data['daysbnRDJD'].head()"
   ]
  },
  {
   "cell_type": "code",
   "execution_count": 33,
   "id": "6c0dc425",
   "metadata": {},
   "outputs": [],
   "source": [
    "#print(min(data.daysbnRDJD.unique()))\n",
    "#print(max(data.daysbnRDJD.unique()))"
   ]
  },
  {
   "cell_type": "code",
   "execution_count": 34,
   "id": "7dee1613",
   "metadata": {},
   "outputs": [],
   "source": [
    "#test['daysbnRDJD'] = test[['RD', 'JD']].apply(lambda x: daysbn_RD_JD(x[0],x[1]), axis = 1)\n",
    "#test['daysbnRDJD'].head()"
   ]
  },
  {
   "cell_type": "code",
   "execution_count": 35,
   "id": "c5b69e0c",
   "metadata": {},
   "outputs": [],
   "source": [
    "#print(min(test.daysbnRDJD.unique()))\n",
    "#print(max(test.daysbnRDJD.unique()))"
   ]
  },
  {
   "cell_type": "code",
   "execution_count": 36,
   "id": "8b7d215f",
   "metadata": {
    "scrolled": true
   },
   "outputs": [],
   "source": [
    "# Function to calculate tenure i.e., no of days between Last Working Day and date of joining.\n",
    "# For employees who have resigned LWD is given, for those who haven't yet resigned LWD is blank. \n",
    "# As the task is to predict whether an employee will leave in the next 2 quarters i.e., from 01 Jan 2018 - 01 July 2018,\n",
    "# let us impute the LWD as 02 July 2018 for those employees who haven't yet resigned - inorder to calculate the tenure.\n",
    "def calc_tenure(JD, LWD):\n",
    "    if LWD == pd.NaT:\n",
    "        tenure = (LWD - JD).days\n",
    "    else:\n",
    "        today = datetime.datetime(2018, 7, 2)\n",
    "        tenure = (today - JD).days\n",
    "    return (tenure)"
   ]
  },
  {
   "cell_type": "code",
   "execution_count": 37,
   "id": "b28c1037",
   "metadata": {},
   "outputs": [],
   "source": [
    "#data['tenure'] = data[['JD', 'LWD']].apply(lambda x: calc_tenure(x[0],x[1]), axis = 1)\n",
    "#data['tenure'].head()"
   ]
  },
  {
   "cell_type": "code",
   "execution_count": 38,
   "id": "73a0be62",
   "metadata": {},
   "outputs": [],
   "source": [
    "#test['tenure'] = test[['JD', 'LWD']].apply(lambda x: calc_tenure(x[0],x[1]), axis = 1)\n",
    "#test['tenure'].head()"
   ]
  },
  {
   "cell_type": "code",
   "execution_count": 39,
   "id": "8970acd5",
   "metadata": {},
   "outputs": [],
   "source": [
    "#test['LWD'].apply(lambda x : None if x==\"NaT\" else x)\n",
    "#test['LWD'].replace({None: np.nan}, inplace = True)"
   ]
  },
  {
   "cell_type": "code",
   "execution_count": 40,
   "id": "06f7c4f5",
   "metadata": {},
   "outputs": [],
   "source": [
    "# Function to calculate tenure i.e., no of days between Reporting Day month end and date of joining.\n",
    "def calc_tenure(JD, RD):\n",
    "    if RD.month == 2:\n",
    "        date = datetime.datetime(RD.year, RD.month, 28)\n",
    "    else:\n",
    "        date = datetime.datetime(RD.year, RD.month, 30)\n",
    "    tenure = (date - JD).days\n",
    "    return (tenure)"
   ]
  },
  {
   "cell_type": "code",
   "execution_count": 41,
   "id": "91200282",
   "metadata": {},
   "outputs": [
    {
     "data": {
      "text/plain": [
       "0    37\n",
       "1    23\n",
       "2    21\n",
       "3    11\n",
       "4    31\n",
       "Name: tenure, dtype: int64"
      ]
     },
     "execution_count": 41,
     "metadata": {},
     "output_type": "execute_result"
    }
   ],
   "source": [
    "data['tenure'] = data[['JD', 'RD']].apply(lambda x: calc_tenure(x[0],x[1]), axis = 1)\n",
    "data['tenure'].head()"
   ]
  },
  {
   "cell_type": "code",
   "execution_count": 42,
   "id": "bd076040",
   "metadata": {},
   "outputs": [
    {
     "data": {
      "text/plain": [
       "0    1699\n",
       "1    1692\n",
       "2    1678\n",
       "3    1664\n",
       "4    1629\n",
       "Name: tenure, dtype: int64"
      ]
     },
     "execution_count": 42,
     "metadata": {},
     "output_type": "execute_result"
    }
   ],
   "source": [
    "test['tenure'] = test[['JD', 'RD']].apply(lambda x: calc_tenure(x[0],x[1]), axis = 1)\n",
    "test['tenure'].head()"
   ]
  },
  {
   "cell_type": "code",
   "execution_count": 43,
   "id": "048f79be",
   "metadata": {},
   "outputs": [
    {
     "name": "stdout",
     "output_type": "stream",
     "text": [
      "2\n",
      "2129\n"
     ]
    }
   ],
   "source": [
    "print(min(data.tenure.unique()))\n",
    "print(max(data.tenure.unique()))"
   ]
  },
  {
   "cell_type": "code",
   "execution_count": 44,
   "id": "df3d9cf3",
   "metadata": {},
   "outputs": [
    {
     "name": "stdout",
     "output_type": "stream",
     "text": [
      "2\n",
      "2130\n"
     ]
    }
   ],
   "source": [
    "print(min(test.tenure.unique()))\n",
    "print(max(test.tenure.unique()))"
   ]
  },
  {
   "cell_type": "code",
   "execution_count": 45,
   "id": "4784774b",
   "metadata": {},
   "outputs": [
    {
     "data": {
      "text/html": [
       "<div>\n",
       "<style scoped>\n",
       "    .dataframe tbody tr th:only-of-type {\n",
       "        vertical-align: middle;\n",
       "    }\n",
       "\n",
       "    .dataframe tbody tr th {\n",
       "        vertical-align: top;\n",
       "    }\n",
       "\n",
       "    .dataframe thead th {\n",
       "        text-align: right;\n",
       "    }\n",
       "</style>\n",
       "<table border=\"1\" class=\"dataframe\">\n",
       "  <thead>\n",
       "    <tr style=\"text-align: right;\">\n",
       "      <th></th>\n",
       "      <th>RD</th>\n",
       "      <th>Emp_ID</th>\n",
       "      <th>Age</th>\n",
       "      <th>Gender</th>\n",
       "      <th>City</th>\n",
       "      <th>Education_Level</th>\n",
       "      <th>Salary</th>\n",
       "      <th>JD</th>\n",
       "      <th>Joining Designation</th>\n",
       "      <th>Designation</th>\n",
       "      <th>TBV</th>\n",
       "      <th>QR</th>\n",
       "      <th>LWD</th>\n",
       "      <th>resigned</th>\n",
       "      <th>tenure</th>\n",
       "    </tr>\n",
       "  </thead>\n",
       "  <tbody>\n",
       "    <tr>\n",
       "      <th>0</th>\n",
       "      <td>2016-01-01</td>\n",
       "      <td>1</td>\n",
       "      <td>28</td>\n",
       "      <td>Male</td>\n",
       "      <td>C23</td>\n",
       "      <td>Master</td>\n",
       "      <td>57387</td>\n",
       "      <td>2015-12-24</td>\n",
       "      <td>1</td>\n",
       "      <td>1</td>\n",
       "      <td>1715580</td>\n",
       "      <td>2.0</td>\n",
       "      <td>2016-03-11</td>\n",
       "      <td>True</td>\n",
       "      <td>37</td>\n",
       "    </tr>\n",
       "    <tr>\n",
       "      <th>1</th>\n",
       "      <td>2016-12-01</td>\n",
       "      <td>4</td>\n",
       "      <td>43</td>\n",
       "      <td>Male</td>\n",
       "      <td>C13</td>\n",
       "      <td>Master</td>\n",
       "      <td>65603</td>\n",
       "      <td>2016-12-07</td>\n",
       "      <td>2</td>\n",
       "      <td>2</td>\n",
       "      <td>350000</td>\n",
       "      <td>1.0</td>\n",
       "      <td>2017-04-27</td>\n",
       "      <td>True</td>\n",
       "      <td>23</td>\n",
       "    </tr>\n",
       "    <tr>\n",
       "      <th>2</th>\n",
       "      <td>2016-01-01</td>\n",
       "      <td>5</td>\n",
       "      <td>29</td>\n",
       "      <td>Male</td>\n",
       "      <td>C9</td>\n",
       "      <td>College</td>\n",
       "      <td>46368</td>\n",
       "      <td>2016-01-09</td>\n",
       "      <td>1</td>\n",
       "      <td>1</td>\n",
       "      <td>120360</td>\n",
       "      <td>1.0</td>\n",
       "      <td>2016-03-07</td>\n",
       "      <td>True</td>\n",
       "      <td>21</td>\n",
       "    </tr>\n",
       "    <tr>\n",
       "      <th>3</th>\n",
       "      <td>2017-09-01</td>\n",
       "      <td>8</td>\n",
       "      <td>34</td>\n",
       "      <td>Male</td>\n",
       "      <td>C2</td>\n",
       "      <td>College</td>\n",
       "      <td>70656</td>\n",
       "      <td>2017-09-19</td>\n",
       "      <td>3</td>\n",
       "      <td>3</td>\n",
       "      <td>0</td>\n",
       "      <td>1.0</td>\n",
       "      <td>2017-11-15</td>\n",
       "      <td>True</td>\n",
       "      <td>11</td>\n",
       "    </tr>\n",
       "    <tr>\n",
       "      <th>4</th>\n",
       "      <td>2016-07-01</td>\n",
       "      <td>12</td>\n",
       "      <td>35</td>\n",
       "      <td>Male</td>\n",
       "      <td>C23</td>\n",
       "      <td>Master</td>\n",
       "      <td>28116</td>\n",
       "      <td>2016-06-29</td>\n",
       "      <td>1</td>\n",
       "      <td>1</td>\n",
       "      <td>2607180</td>\n",
       "      <td>2.5</td>\n",
       "      <td>2016-12-21</td>\n",
       "      <td>True</td>\n",
       "      <td>31</td>\n",
       "    </tr>\n",
       "  </tbody>\n",
       "</table>\n",
       "</div>"
      ],
      "text/plain": [
       "          RD  Emp_ID  Age Gender City Education_Level  Salary         JD  \\\n",
       "0 2016-01-01       1   28   Male  C23          Master   57387 2015-12-24   \n",
       "1 2016-12-01       4   43   Male  C13          Master   65603 2016-12-07   \n",
       "2 2016-01-01       5   29   Male   C9         College   46368 2016-01-09   \n",
       "3 2017-09-01       8   34   Male   C2         College   70656 2017-09-19   \n",
       "4 2016-07-01      12   35   Male  C23          Master   28116 2016-06-29   \n",
       "\n",
       "   Joining Designation  Designation      TBV   QR        LWD  resigned  tenure  \n",
       "0                    1            1  1715580  2.0 2016-03-11      True      37  \n",
       "1                    2            2   350000  1.0 2017-04-27      True      23  \n",
       "2                    1            1   120360  1.0 2016-03-07      True      21  \n",
       "3                    3            3        0  1.0 2017-11-15      True      11  \n",
       "4                    1            1  2607180  2.5 2016-12-21      True      31  "
      ]
     },
     "execution_count": 45,
     "metadata": {},
     "output_type": "execute_result"
    }
   ],
   "source": [
    "data.head()"
   ]
  },
  {
   "cell_type": "code",
   "execution_count": 46,
   "id": "b79c4741",
   "metadata": {},
   "outputs": [],
   "source": [
    "# Dropping unwanted columns\n",
    "def drop_unwanted_cols(data, cols_list):\n",
    "    data.drop(cols_list, axis = 1, inplace = True)\n",
    "    return data"
   ]
  },
  {
   "cell_type": "code",
   "execution_count": 47,
   "id": "8b1f8cc9",
   "metadata": {},
   "outputs": [],
   "source": [
    "data = drop_unwanted_cols(data, ['Emp_ID', 'RD', 'JD', 'LWD'])"
   ]
  },
  {
   "cell_type": "code",
   "execution_count": 48,
   "id": "1a8432b9",
   "metadata": {},
   "outputs": [],
   "source": [
    "test = drop_unwanted_cols(test, ['Emp_ID', 'RD', 'JD', 'LWD'])"
   ]
  },
  {
   "cell_type": "code",
   "execution_count": 49,
   "id": "7eb46f57",
   "metadata": {},
   "outputs": [
    {
     "data": {
      "text/html": [
       "<div>\n",
       "<style scoped>\n",
       "    .dataframe tbody tr th:only-of-type {\n",
       "        vertical-align: middle;\n",
       "    }\n",
       "\n",
       "    .dataframe tbody tr th {\n",
       "        vertical-align: top;\n",
       "    }\n",
       "\n",
       "    .dataframe thead th {\n",
       "        text-align: right;\n",
       "    }\n",
       "</style>\n",
       "<table border=\"1\" class=\"dataframe\">\n",
       "  <thead>\n",
       "    <tr style=\"text-align: right;\">\n",
       "      <th></th>\n",
       "      <th>Datatype</th>\n",
       "      <th>No of NAs</th>\n",
       "      <th>No of Levels</th>\n",
       "      <th>Levels</th>\n",
       "    </tr>\n",
       "  </thead>\n",
       "  <tbody>\n",
       "    <tr>\n",
       "      <th>Age</th>\n",
       "      <td>int64</td>\n",
       "      <td>0</td>\n",
       "      <td>33</td>\n",
       "      <td>[28 43 29 34 35 30 42 27 26 33 40 31 32 22 44 ...</td>\n",
       "    </tr>\n",
       "    <tr>\n",
       "      <th>Gender</th>\n",
       "      <td>object</td>\n",
       "      <td>0</td>\n",
       "      <td>2</td>\n",
       "      <td>['Male' 'Female']</td>\n",
       "    </tr>\n",
       "    <tr>\n",
       "      <th>City</th>\n",
       "      <td>object</td>\n",
       "      <td>0</td>\n",
       "      <td>29</td>\n",
       "      <td>['C23' 'C13' 'C9' 'C2' 'C19' 'C20' 'C17' 'C29'...</td>\n",
       "    </tr>\n",
       "    <tr>\n",
       "      <th>Education_Level</th>\n",
       "      <td>object</td>\n",
       "      <td>0</td>\n",
       "      <td>3</td>\n",
       "      <td>['Master' 'College' 'Bachelor']</td>\n",
       "    </tr>\n",
       "    <tr>\n",
       "      <th>Salary</th>\n",
       "      <td>int64</td>\n",
       "      <td>0</td>\n",
       "      <td>1614</td>\n",
       "      <td>[57387 65603 46368 ... 12105 35370 69498]</td>\n",
       "    </tr>\n",
       "    <tr>\n",
       "      <th>Joining Designation</th>\n",
       "      <td>int64</td>\n",
       "      <td>0</td>\n",
       "      <td>5</td>\n",
       "      <td>[1 2 3 4 5]</td>\n",
       "    </tr>\n",
       "    <tr>\n",
       "      <th>Designation</th>\n",
       "      <td>int64</td>\n",
       "      <td>0</td>\n",
       "      <td>5</td>\n",
       "      <td>[1 2 3 4 5]</td>\n",
       "    </tr>\n",
       "    <tr>\n",
       "      <th>TBV</th>\n",
       "      <td>int64</td>\n",
       "      <td>0</td>\n",
       "      <td>1047</td>\n",
       "      <td>[1715580  350000  120360 ... 4284010 2815090  ...</td>\n",
       "    </tr>\n",
       "    <tr>\n",
       "      <th>QR</th>\n",
       "      <td>float64</td>\n",
       "      <td>0</td>\n",
       "      <td>137</td>\n",
       "      <td>[2.         1.         2.5        1.26086957 1...</td>\n",
       "    </tr>\n",
       "    <tr>\n",
       "      <th>resigned</th>\n",
       "      <td>bool</td>\n",
       "      <td>0</td>\n",
       "      <td>2</td>\n",
       "      <td>[ True False]</td>\n",
       "    </tr>\n",
       "    <tr>\n",
       "      <th>tenure</th>\n",
       "      <td>int64</td>\n",
       "      <td>0</td>\n",
       "      <td>398</td>\n",
       "      <td>[  37   23   21   11   31 1342   61  330    5 ...</td>\n",
       "    </tr>\n",
       "  </tbody>\n",
       "</table>\n",
       "</div>"
      ],
      "text/plain": [
       "                    Datatype  No of NAs  No of Levels  \\\n",
       "Age                    int64          0            33   \n",
       "Gender                object          0             2   \n",
       "City                  object          0            29   \n",
       "Education_Level       object          0             3   \n",
       "Salary                 int64          0          1614   \n",
       "Joining Designation    int64          0             5   \n",
       "Designation            int64          0             5   \n",
       "TBV                    int64          0          1047   \n",
       "QR                   float64          0           137   \n",
       "resigned                bool          0             2   \n",
       "tenure                 int64          0           398   \n",
       "\n",
       "                                                                Levels  \n",
       "Age                  [28 43 29 34 35 30 42 27 26 33 40 31 32 22 44 ...  \n",
       "Gender                                               ['Male' 'Female']  \n",
       "City                 ['C23' 'C13' 'C9' 'C2' 'C19' 'C20' 'C17' 'C29'...  \n",
       "Education_Level                        ['Master' 'College' 'Bachelor']  \n",
       "Salary                       [57387 65603 46368 ... 12105 35370 69498]  \n",
       "Joining Designation                                        [1 2 3 4 5]  \n",
       "Designation                                                [1 2 3 4 5]  \n",
       "TBV                  [1715580  350000  120360 ... 4284010 2815090  ...  \n",
       "QR                   [2.         1.         2.5        1.26086957 1...  \n",
       "resigned                                                 [ True False]  \n",
       "tenure               [  37   23   21   11   31 1342   61  330    5 ...  "
      ]
     },
     "execution_count": 49,
     "metadata": {},
     "output_type": "execute_result"
    }
   ],
   "source": [
    "understand_data(data)"
   ]
  },
  {
   "cell_type": "code",
   "execution_count": 50,
   "id": "5ece08ca",
   "metadata": {},
   "outputs": [
    {
     "data": {
      "image/png": "[encoded data removed]",
      "text/plain": [
       "<Figure size 432x288 with 1 Axes>"
      ]
     },
     "metadata": {
      "needs_background": "light"
     },
     "output_type": "display_data"
    }
   ],
   "source": [
    "import matplotlib.pyplot as plt\n",
    "plt.hist(data.Age)\n",
    "plt.show()"
   ]
  },
  {
   "cell_type": "code",
   "execution_count": 51,
   "id": "67aa286a",
   "metadata": {},
   "outputs": [
    {
     "data": {
      "text/plain": [
       "54"
      ]
     },
     "execution_count": 51,
     "metadata": {},
     "output_type": "execute_result"
    }
   ],
   "source": [
    "test.Age.max()"
   ]
  },
  {
   "cell_type": "code",
   "execution_count": 52,
   "id": "17f9809a",
   "metadata": {},
   "outputs": [],
   "source": [
    "data['Age_binned'] = pd.cut(data['Age'], \n",
    "                            bins = [21,25,29,33,35,38,43,60], \n",
    "                            labels = ['AG1','AG2','AG3','AG4','AG5','AG6','AG7'])"
   ]
  },
  {
   "cell_type": "code",
   "execution_count": 53,
   "id": "b4030ef1",
   "metadata": {},
   "outputs": [],
   "source": [
    "test['Age_binned'] = pd.cut(test['Age'], \n",
    "                            bins = [21,25,29,33,35,38,43,60], \n",
    "                            labels = ['AG1','AG2','AG3','AG4','AG5','AG6','AG7'])"
   ]
  },
  {
   "cell_type": "code",
   "execution_count": 54,
   "id": "5c0a63dc",
   "metadata": {},
   "outputs": [],
   "source": [
    "data = drop_unwanted_cols(data, ['Age'])\n",
    "test = drop_unwanted_cols(test, ['Age'])"
   ]
  },
  {
   "cell_type": "code",
   "execution_count": 55,
   "id": "7b45fc12",
   "metadata": {
    "scrolled": true
   },
   "outputs": [
    {
     "data": {
      "text/html": [
       "<div>\n",
       "<style scoped>\n",
       "    .dataframe tbody tr th:only-of-type {\n",
       "        vertical-align: middle;\n",
       "    }\n",
       "\n",
       "    .dataframe tbody tr th {\n",
       "        vertical-align: top;\n",
       "    }\n",
       "\n",
       "    .dataframe thead th {\n",
       "        text-align: right;\n",
       "    }\n",
       "</style>\n",
       "<table border=\"1\" class=\"dataframe\">\n",
       "  <thead>\n",
       "    <tr style=\"text-align: right;\">\n",
       "      <th></th>\n",
       "      <th>Datatype</th>\n",
       "      <th>No of NAs</th>\n",
       "      <th>No of Levels</th>\n",
       "      <th>Levels</th>\n",
       "    </tr>\n",
       "  </thead>\n",
       "  <tbody>\n",
       "    <tr>\n",
       "      <th>Gender</th>\n",
       "      <td>object</td>\n",
       "      <td>0</td>\n",
       "      <td>2</td>\n",
       "      <td>['Male' 'Female']</td>\n",
       "    </tr>\n",
       "    <tr>\n",
       "      <th>City</th>\n",
       "      <td>object</td>\n",
       "      <td>0</td>\n",
       "      <td>29</td>\n",
       "      <td>['C23' 'C13' 'C9' 'C2' 'C19' 'C20' 'C17' 'C29'...</td>\n",
       "    </tr>\n",
       "    <tr>\n",
       "      <th>Education_Level</th>\n",
       "      <td>object</td>\n",
       "      <td>0</td>\n",
       "      <td>3</td>\n",
       "      <td>['Master' 'College' 'Bachelor']</td>\n",
       "    </tr>\n",
       "    <tr>\n",
       "      <th>Salary</th>\n",
       "      <td>int64</td>\n",
       "      <td>0</td>\n",
       "      <td>1614</td>\n",
       "      <td>[57387 65603 46368 ... 12105 35370 69498]</td>\n",
       "    </tr>\n",
       "    <tr>\n",
       "      <th>Joining Designation</th>\n",
       "      <td>int64</td>\n",
       "      <td>0</td>\n",
       "      <td>5</td>\n",
       "      <td>[1 2 3 4 5]</td>\n",
       "    </tr>\n",
       "    <tr>\n",
       "      <th>Designation</th>\n",
       "      <td>int64</td>\n",
       "      <td>0</td>\n",
       "      <td>5</td>\n",
       "      <td>[1 2 3 4 5]</td>\n",
       "    </tr>\n",
       "    <tr>\n",
       "      <th>TBV</th>\n",
       "      <td>int64</td>\n",
       "      <td>0</td>\n",
       "      <td>1047</td>\n",
       "      <td>[1715580  350000  120360 ... 4284010 2815090  ...</td>\n",
       "    </tr>\n",
       "    <tr>\n",
       "      <th>QR</th>\n",
       "      <td>float64</td>\n",
       "      <td>0</td>\n",
       "      <td>137</td>\n",
       "      <td>[2.         1.         2.5        1.26086957 1...</td>\n",
       "    </tr>\n",
       "    <tr>\n",
       "      <th>resigned</th>\n",
       "      <td>bool</td>\n",
       "      <td>0</td>\n",
       "      <td>2</td>\n",
       "      <td>[ True False]</td>\n",
       "    </tr>\n",
       "    <tr>\n",
       "      <th>tenure</th>\n",
       "      <td>int64</td>\n",
       "      <td>0</td>\n",
       "      <td>398</td>\n",
       "      <td>[  37   23   21   11   31 1342   61  330    5 ...</td>\n",
       "    </tr>\n",
       "    <tr>\n",
       "      <th>Age_binned</th>\n",
       "      <td>category</td>\n",
       "      <td>6</td>\n",
       "      <td>7</td>\n",
       "      <td>['AG2', 'AG6', 'AG4', 'AG3', 'AG1', 'AG7', 'AG...</td>\n",
       "    </tr>\n",
       "  </tbody>\n",
       "</table>\n",
       "</div>"
      ],
      "text/plain": [
       "                     Datatype  No of NAs  No of Levels  \\\n",
       "Gender                 object          0             2   \n",
       "City                   object          0            29   \n",
       "Education_Level        object          0             3   \n",
       "Salary                  int64          0          1614   \n",
       "Joining Designation     int64          0             5   \n",
       "Designation             int64          0             5   \n",
       "TBV                     int64          0          1047   \n",
       "QR                    float64          0           137   \n",
       "resigned                 bool          0             2   \n",
       "tenure                  int64          0           398   \n",
       "Age_binned           category          6             7   \n",
       "\n",
       "                                                                Levels  \n",
       "Gender                                               ['Male' 'Female']  \n",
       "City                 ['C23' 'C13' 'C9' 'C2' 'C19' 'C20' 'C17' 'C29'...  \n",
       "Education_Level                        ['Master' 'College' 'Bachelor']  \n",
       "Salary                       [57387 65603 46368 ... 12105 35370 69498]  \n",
       "Joining Designation                                        [1 2 3 4 5]  \n",
       "Designation                                                [1 2 3 4 5]  \n",
       "TBV                  [1715580  350000  120360 ... 4284010 2815090  ...  \n",
       "QR                   [2.         1.         2.5        1.26086957 1...  \n",
       "resigned                                                 [ True False]  \n",
       "tenure               [  37   23   21   11   31 1342   61  330    5 ...  \n",
       "Age_binned           ['AG2', 'AG6', 'AG4', 'AG3', 'AG1', 'AG7', 'AG...  "
      ]
     },
     "execution_count": 55,
     "metadata": {},
     "output_type": "execute_result"
    }
   ],
   "source": [
    "understand_data(data)"
   ]
  },
  {
   "cell_type": "code",
   "execution_count": 56,
   "id": "143b13c0",
   "metadata": {},
   "outputs": [
    {
     "data": {
      "text/plain": [
       "array(['Gender', 'City', 'Education_Level', 'resigned'], dtype=object)"
      ]
     },
     "execution_count": 56,
     "metadata": {},
     "output_type": "execute_result"
    }
   ],
   "source": [
    "cat_cols = data.select_dtypes(include = ['object','bool']).columns.values\n",
    "cat_cols"
   ]
  },
  {
   "cell_type": "code",
   "execution_count": 57,
   "id": "51f8bf36",
   "metadata": {},
   "outputs": [],
   "source": [
    "# Convert object and bool columns to categorical\n",
    "def convert_to_categ(data, cat_cols):\n",
    "    data[cat_cols] = data[cat_cols].astype('category')\n",
    "    return data[cat_cols]"
   ]
  },
  {
   "cell_type": "code",
   "execution_count": 58,
   "id": "e680f1c8",
   "metadata": {},
   "outputs": [],
   "source": [
    "data[cat_cols] = convert_to_categ(data, cat_cols)"
   ]
  },
  {
   "cell_type": "code",
   "execution_count": 59,
   "id": "6f5cb87a",
   "metadata": {},
   "outputs": [
    {
     "data": {
      "text/plain": [
       "array(['Gender', 'City', 'Education_Level'], dtype=object)"
      ]
     },
     "execution_count": 59,
     "metadata": {},
     "output_type": "execute_result"
    }
   ],
   "source": [
    "cat_cols = test.select_dtypes(include = ['object','bool']).columns.values\n",
    "cat_cols"
   ]
  },
  {
   "cell_type": "code",
   "execution_count": 60,
   "id": "abda71d3",
   "metadata": {},
   "outputs": [],
   "source": [
    "test[cat_cols] = convert_to_categ(test, cat_cols)"
   ]
  },
  {
   "cell_type": "code",
   "execution_count": 61,
   "id": "76528a05",
   "metadata": {},
   "outputs": [
    {
     "data": {
      "text/html": [
       "<div>\n",
       "<style scoped>\n",
       "    .dataframe tbody tr th:only-of-type {\n",
       "        vertical-align: middle;\n",
       "    }\n",
       "\n",
       "    .dataframe tbody tr th {\n",
       "        vertical-align: top;\n",
       "    }\n",
       "\n",
       "    .dataframe thead th {\n",
       "        text-align: right;\n",
       "    }\n",
       "</style>\n",
       "<table border=\"1\" class=\"dataframe\">\n",
       "  <thead>\n",
       "    <tr style=\"text-align: right;\">\n",
       "      <th></th>\n",
       "      <th>Datatype</th>\n",
       "      <th>No of NAs</th>\n",
       "      <th>No of Levels</th>\n",
       "      <th>Levels</th>\n",
       "    </tr>\n",
       "  </thead>\n",
       "  <tbody>\n",
       "    <tr>\n",
       "      <th>Gender</th>\n",
       "      <td>category</td>\n",
       "      <td>0</td>\n",
       "      <td>2</td>\n",
       "      <td>['Male', 'Female']\\nCategories (2, object): ['...</td>\n",
       "    </tr>\n",
       "    <tr>\n",
       "      <th>City</th>\n",
       "      <td>category</td>\n",
       "      <td>0</td>\n",
       "      <td>29</td>\n",
       "      <td>['C23', 'C13', 'C9', 'C2', 'C19', ..., 'C3', '...</td>\n",
       "    </tr>\n",
       "    <tr>\n",
       "      <th>Education_Level</th>\n",
       "      <td>category</td>\n",
       "      <td>0</td>\n",
       "      <td>3</td>\n",
       "      <td>['Master', 'College', 'Bachelor']\\nCategories ...</td>\n",
       "    </tr>\n",
       "    <tr>\n",
       "      <th>Salary</th>\n",
       "      <td>int64</td>\n",
       "      <td>0</td>\n",
       "      <td>1614</td>\n",
       "      <td>[57387 65603 46368 ... 12105 35370 69498]</td>\n",
       "    </tr>\n",
       "    <tr>\n",
       "      <th>Joining Designation</th>\n",
       "      <td>int64</td>\n",
       "      <td>0</td>\n",
       "      <td>5</td>\n",
       "      <td>[1 2 3 4 5]</td>\n",
       "    </tr>\n",
       "    <tr>\n",
       "      <th>Designation</th>\n",
       "      <td>int64</td>\n",
       "      <td>0</td>\n",
       "      <td>5</td>\n",
       "      <td>[1 2 3 4 5]</td>\n",
       "    </tr>\n",
       "    <tr>\n",
       "      <th>TBV</th>\n",
       "      <td>int64</td>\n",
       "      <td>0</td>\n",
       "      <td>1047</td>\n",
       "      <td>[1715580  350000  120360 ... 4284010 2815090  ...</td>\n",
       "    </tr>\n",
       "    <tr>\n",
       "      <th>QR</th>\n",
       "      <td>float64</td>\n",
       "      <td>0</td>\n",
       "      <td>137</td>\n",
       "      <td>[2.         1.         2.5        1.26086957 1...</td>\n",
       "    </tr>\n",
       "    <tr>\n",
       "      <th>resigned</th>\n",
       "      <td>category</td>\n",
       "      <td>0</td>\n",
       "      <td>2</td>\n",
       "      <td>[True, False]\\nCategories (2, object): [True, ...</td>\n",
       "    </tr>\n",
       "    <tr>\n",
       "      <th>tenure</th>\n",
       "      <td>int64</td>\n",
       "      <td>0</td>\n",
       "      <td>398</td>\n",
       "      <td>[  37   23   21   11   31 1342   61  330    5 ...</td>\n",
       "    </tr>\n",
       "    <tr>\n",
       "      <th>Age_binned</th>\n",
       "      <td>category</td>\n",
       "      <td>6</td>\n",
       "      <td>7</td>\n",
       "      <td>['AG2', 'AG6', 'AG4', 'AG3', 'AG1', 'AG7', 'AG...</td>\n",
       "    </tr>\n",
       "  </tbody>\n",
       "</table>\n",
       "</div>"
      ],
      "text/plain": [
       "                     Datatype  No of NAs  No of Levels  \\\n",
       "Gender               category          0             2   \n",
       "City                 category          0            29   \n",
       "Education_Level      category          0             3   \n",
       "Salary                  int64          0          1614   \n",
       "Joining Designation     int64          0             5   \n",
       "Designation             int64          0             5   \n",
       "TBV                     int64          0          1047   \n",
       "QR                    float64          0           137   \n",
       "resigned             category          0             2   \n",
       "tenure                  int64          0           398   \n",
       "Age_binned           category          6             7   \n",
       "\n",
       "                                                                Levels  \n",
       "Gender               ['Male', 'Female']\\nCategories (2, object): ['...  \n",
       "City                 ['C23', 'C13', 'C9', 'C2', 'C19', ..., 'C3', '...  \n",
       "Education_Level      ['Master', 'College', 'Bachelor']\\nCategories ...  \n",
       "Salary                       [57387 65603 46368 ... 12105 35370 69498]  \n",
       "Joining Designation                                        [1 2 3 4 5]  \n",
       "Designation                                                [1 2 3 4 5]  \n",
       "TBV                  [1715580  350000  120360 ... 4284010 2815090  ...  \n",
       "QR                   [2.         1.         2.5        1.26086957 1...  \n",
       "resigned             [True, False]\\nCategories (2, object): [True, ...  \n",
       "tenure               [  37   23   21   11   31 1342   61  330    5 ...  \n",
       "Age_binned           ['AG2', 'AG6', 'AG4', 'AG3', 'AG1', 'AG7', 'AG...  "
      ]
     },
     "execution_count": 61,
     "metadata": {},
     "output_type": "execute_result"
    }
   ],
   "source": [
    "understand_data(data)"
   ]
  },
  {
   "cell_type": "code",
   "execution_count": 62,
   "id": "a6a9933a",
   "metadata": {},
   "outputs": [
    {
     "data": {
      "text/html": [
       "<div>\n",
       "<style scoped>\n",
       "    .dataframe tbody tr th:only-of-type {\n",
       "        vertical-align: middle;\n",
       "    }\n",
       "\n",
       "    .dataframe tbody tr th {\n",
       "        vertical-align: top;\n",
       "    }\n",
       "\n",
       "    .dataframe thead th {\n",
       "        text-align: right;\n",
       "    }\n",
       "</style>\n",
       "<table border=\"1\" class=\"dataframe\">\n",
       "  <thead>\n",
       "    <tr style=\"text-align: right;\">\n",
       "      <th></th>\n",
       "      <th>Datatype</th>\n",
       "      <th>No of NAs</th>\n",
       "      <th>No of Levels</th>\n",
       "      <th>Levels</th>\n",
       "    </tr>\n",
       "  </thead>\n",
       "  <tbody>\n",
       "    <tr>\n",
       "      <th>Gender</th>\n",
       "      <td>category</td>\n",
       "      <td>0</td>\n",
       "      <td>2</td>\n",
       "      <td>['Male', 'Female']\\nCategories (2, object): ['...</td>\n",
       "    </tr>\n",
       "    <tr>\n",
       "      <th>City</th>\n",
       "      <td>category</td>\n",
       "      <td>0</td>\n",
       "      <td>29</td>\n",
       "      <td>['C23', 'C13', 'C9', 'C2', 'C19', ..., 'C3', '...</td>\n",
       "    </tr>\n",
       "    <tr>\n",
       "      <th>Education_Level</th>\n",
       "      <td>category</td>\n",
       "      <td>0</td>\n",
       "      <td>3</td>\n",
       "      <td>['Master', 'College', 'Bachelor']\\nCategories ...</td>\n",
       "    </tr>\n",
       "    <tr>\n",
       "      <th>Salary</th>\n",
       "      <td>int64</td>\n",
       "      <td>0</td>\n",
       "      <td>1614</td>\n",
       "      <td>[57387 65603 46368 ... 12105 35370 69498]</td>\n",
       "    </tr>\n",
       "    <tr>\n",
       "      <th>Joining Designation</th>\n",
       "      <td>int64</td>\n",
       "      <td>0</td>\n",
       "      <td>5</td>\n",
       "      <td>[1 2 3 4 5]</td>\n",
       "    </tr>\n",
       "    <tr>\n",
       "      <th>Designation</th>\n",
       "      <td>int64</td>\n",
       "      <td>0</td>\n",
       "      <td>5</td>\n",
       "      <td>[1 2 3 4 5]</td>\n",
       "    </tr>\n",
       "    <tr>\n",
       "      <th>TBV</th>\n",
       "      <td>int64</td>\n",
       "      <td>0</td>\n",
       "      <td>1047</td>\n",
       "      <td>[1715580  350000  120360 ... 4284010 2815090  ...</td>\n",
       "    </tr>\n",
       "    <tr>\n",
       "      <th>QR</th>\n",
       "      <td>float64</td>\n",
       "      <td>0</td>\n",
       "      <td>137</td>\n",
       "      <td>[2.         1.         2.5        1.26086957 1...</td>\n",
       "    </tr>\n",
       "    <tr>\n",
       "      <th>resigned</th>\n",
       "      <td>category</td>\n",
       "      <td>0</td>\n",
       "      <td>2</td>\n",
       "      <td>[True, False]\\nCategories (2, object): [True, ...</td>\n",
       "    </tr>\n",
       "    <tr>\n",
       "      <th>tenure</th>\n",
       "      <td>int64</td>\n",
       "      <td>0</td>\n",
       "      <td>398</td>\n",
       "      <td>[  37   23   21   11   31 1342   61  330    5 ...</td>\n",
       "    </tr>\n",
       "    <tr>\n",
       "      <th>Age_binned</th>\n",
       "      <td>category</td>\n",
       "      <td>6</td>\n",
       "      <td>7</td>\n",
       "      <td>['AG2', 'AG6', 'AG4', 'AG3', 'AG1', 'AG7', 'AG...</td>\n",
       "    </tr>\n",
       "  </tbody>\n",
       "</table>\n",
       "</div>"
      ],
      "text/plain": [
       "                     Datatype  No of NAs  No of Levels  \\\n",
       "Gender               category          0             2   \n",
       "City                 category          0            29   \n",
       "Education_Level      category          0             3   \n",
       "Salary                  int64          0          1614   \n",
       "Joining Designation     int64          0             5   \n",
       "Designation             int64          0             5   \n",
       "TBV                     int64          0          1047   \n",
       "QR                    float64          0           137   \n",
       "resigned             category          0             2   \n",
       "tenure                  int64          0           398   \n",
       "Age_binned           category          6             7   \n",
       "\n",
       "                                                                Levels  \n",
       "Gender               ['Male', 'Female']\\nCategories (2, object): ['...  \n",
       "City                 ['C23', 'C13', 'C9', 'C2', 'C19', ..., 'C3', '...  \n",
       "Education_Level      ['Master', 'College', 'Bachelor']\\nCategories ...  \n",
       "Salary                       [57387 65603 46368 ... 12105 35370 69498]  \n",
       "Joining Designation                                        [1 2 3 4 5]  \n",
       "Designation                                                [1 2 3 4 5]  \n",
       "TBV                  [1715580  350000  120360 ... 4284010 2815090  ...  \n",
       "QR                   [2.         1.         2.5        1.26086957 1...  \n",
       "resigned             [True, False]\\nCategories (2, object): [True, ...  \n",
       "tenure               [  37   23   21   11   31 1342   61  330    5 ...  \n",
       "Age_binned           ['AG2', 'AG6', 'AG4', 'AG3', 'AG1', 'AG7', 'AG...  "
      ]
     },
     "execution_count": 62,
     "metadata": {},
     "output_type": "execute_result"
    }
   ],
   "source": [
    "understand_data(data)"
   ]
  },
  {
   "cell_type": "code",
   "execution_count": 63,
   "id": "f9278bf2",
   "metadata": {},
   "outputs": [],
   "source": [
    "cat_cols = test.select_dtypes(include = ['category']).columns\n",
    "num_cols = data.select_dtypes(include = ['int','float']).columns"
   ]
  },
  {
   "cell_type": "code",
   "execution_count": 64,
   "id": "09d20bcc",
   "metadata": {},
   "outputs": [
    {
     "name": "stdout",
     "output_type": "stream",
     "text": [
      "Index(['Salary', 'Joining Designation', 'Designation', 'TBV', 'QR', 'tenure'], dtype='object')\n",
      "\n",
      "\n",
      "Index(['Gender', 'City', 'Education_Level', 'Age_binned'], dtype='object')\n"
     ]
    }
   ],
   "source": [
    "print(num_cols)\n",
    "print(\"\\n\")\n",
    "print(cat_cols)"
   ]
  },
  {
   "cell_type": "code",
   "execution_count": 65,
   "id": "d7172c08",
   "metadata": {},
   "outputs": [
    {
     "name": "stdout",
     "output_type": "stream",
     "text": [
      "Index(['Gender', 'City', 'Education_Level', 'Salary', 'Joining Designation',\n",
      "       'Designation', 'TBV', 'QR', 'tenure', 'Age_binned'],\n",
      "      dtype='object')\n",
      "Index(['resigned'], dtype='object')\n"
     ]
    }
   ],
   "source": [
    "# split predictors and target\n",
    "traindata_x = data.drop(['resigned'],axis=1)\n",
    "traindata_y = pd.DataFrame(data['resigned'])\n",
    "print(traindata_x.columns);print(traindata_y.columns)"
   ]
  },
  {
   "cell_type": "code",
   "execution_count": 66,
   "id": "2597c2ee",
   "metadata": {},
   "outputs": [
    {
     "name": "stdout",
     "output_type": "stream",
     "text": [
      "(1312, 10)\n",
      "(328, 10)\n",
      "(1312, 1)\n",
      "(328, 1)\n"
     ]
    }
   ],
   "source": [
    "# Split train and validation data\n",
    "from sklearn.model_selection import train_test_split\n",
    "train_x, val_x, train_y, val_y=train_test_split(traindata_x, traindata_y, test_size = 0.2, random_state = 42)\n",
    "print(train_x.shape)\n",
    "print(val_x.shape)\n",
    "print(train_y.shape)\n",
    "print(val_y.shape)"
   ]
  },
  {
   "cell_type": "code",
   "execution_count": 67,
   "id": "60438438",
   "metadata": {},
   "outputs": [],
   "source": [
    "# Imputation\n",
    "from sklearn.impute import SimpleImputer\n",
    "num_imputer = SimpleImputer()\n",
    "cat_imputer = SimpleImputer(strategy = 'most_frequent')\n",
    "num_imputer.fit(train_x[num_cols])\n",
    "cat_imputer.fit(train_x[cat_cols])\n",
    "\n",
    "# Impute values for NAs in numerical columns\n",
    "train_x[num_cols]=num_imputer.transform(train_x[num_cols])\n",
    "val_x[num_cols]=num_imputer.transform(val_x[num_cols])\n",
    "test[num_cols]=num_imputer.transform(test[num_cols])\n",
    "\n",
    "# Impute values for NAs in categorical columns\n",
    "train_x[cat_cols] = cat_imputer.transform(train_x[cat_cols])\n",
    "val_x[cat_cols] = cat_imputer.transform(val_x[cat_cols])\n",
    "test[cat_cols] = cat_imputer.transform(test[cat_cols])"
   ]
  },
  {
   "cell_type": "code",
   "execution_count": 68,
   "id": "d62ced65",
   "metadata": {},
   "outputs": [],
   "source": [
    "# Dummify the categorical columns\n",
    "train_x = pd.get_dummies(train_x, columns = cat_cols, drop_first = True)\n",
    "val_x = pd.get_dummies(val_x, columns = cat_cols, drop_first = True)\n",
    "test = pd.get_dummies(test, columns = cat_cols, drop_first = True)"
   ]
  },
  {
   "cell_type": "code",
   "execution_count": 69,
   "id": "dd387593",
   "metadata": {},
   "outputs": [
    {
     "name": "stdout",
     "output_type": "stream",
     "text": [
      "43\n",
      "43\n",
      "43\n"
     ]
    }
   ],
   "source": [
    "print(train_x.shape[1])\n",
    "print(val_x.shape[1])\n",
    "print(test.shape[1])"
   ]
  },
  {
   "cell_type": "code",
   "execution_count": 70,
   "id": "e2e5c75e",
   "metadata": {},
   "outputs": [
    {
     "data": {
      "text/plain": [
       "set()"
      ]
     },
     "execution_count": 70,
     "metadata": {},
     "output_type": "execute_result"
    }
   ],
   "source": [
    "set(train_x.columns) - set(val_x.columns)"
   ]
  },
  {
   "cell_type": "code",
   "execution_count": 71,
   "id": "e6b047f9",
   "metadata": {},
   "outputs": [
    {
     "data": {
      "text/plain": [
       "set()"
      ]
     },
     "execution_count": 71,
     "metadata": {},
     "output_type": "execute_result"
    }
   ],
   "source": [
    "set(val_x.columns) - set(train_x.columns)"
   ]
  },
  {
   "cell_type": "code",
   "execution_count": 72,
   "id": "923a70d7",
   "metadata": {},
   "outputs": [
    {
     "data": {
      "text/plain": [
       "set()"
      ]
     },
     "execution_count": 72,
     "metadata": {},
     "output_type": "execute_result"
    }
   ],
   "source": [
    "set(train_x.columns) - set(test.columns)"
   ]
  },
  {
   "cell_type": "code",
   "execution_count": 73,
   "id": "6f5862e6",
   "metadata": {},
   "outputs": [
    {
     "data": {
      "text/plain": [
       "set()"
      ]
     },
     "execution_count": 73,
     "metadata": {},
     "output_type": "execute_result"
    }
   ],
   "source": [
    "set(test.columns) - set(train_x.columns)"
   ]
  },
  {
   "cell_type": "code",
   "execution_count": 74,
   "id": "f56ee7f9",
   "metadata": {},
   "outputs": [],
   "source": [
    "# Standardizing numerical columns\n",
    "from sklearn.preprocessing import StandardScaler\n",
    "scaler = StandardScaler()\n",
    "scaler.fit(train_x[num_cols])\n",
    "train_x[num_cols] = scaler.transform(train_x[num_cols])\n",
    "val_x[num_cols] = scaler.transform(val_x[num_cols])\n",
    "test[num_cols] = scaler.transform(test[num_cols])"
   ]
  },
  {
   "cell_type": "code",
   "execution_count": 75,
   "id": "e8e0a2cb",
   "metadata": {},
   "outputs": [
    {
     "data": {
      "image/png": "[encoded data removed]",
      "text/plain": [
       "<Figure size 432x288 with 1 Axes>"
      ]
     },
     "metadata": {
      "needs_background": "light"
     },
     "output_type": "display_data"
    }
   ],
   "source": [
    "# plot to Showcase the Class imbalance for resigned (Yes/No)\n",
    "import seaborn as sns\n",
    "plt.rcParams['axes.labelsize'] = 14\n",
    "plt.rcParams['xtick.labelsize'] = 12\n",
    "plt.rcParams['ytick.labelsize'] = 12\n",
    "\n",
    "sns.countplot(y = train_y['resigned'], palette='viridis')\n",
    "plt.xlabel('Number of employees')\n",
    "plt.title('Class imbalance in the train data')\n",
    "plt.show()"
   ]
  },
  {
   "cell_type": "code",
   "execution_count": 76,
   "id": "316f4a0e",
   "metadata": {},
   "outputs": [
    {
     "data": {
      "text/plain": [
       "True     1296\n",
       "False      16\n",
       "Name: resigned, dtype: int64"
      ]
     },
     "execution_count": 76,
     "metadata": {},
     "output_type": "execute_result"
    }
   ],
   "source": [
    "train_y.resigned.value_counts()"
   ]
  },
  {
   "cell_type": "code",
   "execution_count": 77,
   "id": "14a76344",
   "metadata": {},
   "outputs": [],
   "source": [
    "# Let us create a new level. Ordinal Encoding is done for encoding ordinal variables\n",
    "mapper = {True:1,\n",
    "          False:0\n",
    "}\n",
    "\n",
    "train_y['resigned'] = train_y.resigned.map(mapper)\n",
    "val_y['resigned'] = val_y.resigned.map(mapper)"
   ]
  },
  {
   "cell_type": "code",
   "execution_count": 78,
   "id": "b9a4e916",
   "metadata": {},
   "outputs": [
    {
     "data": {
      "text/plain": [
       "1    1296\n",
       "0      16\n",
       "Name: resigned, dtype: int64"
      ]
     },
     "execution_count": 78,
     "metadata": {},
     "output_type": "execute_result"
    }
   ],
   "source": [
    "train_y.resigned.value_counts()"
   ]
  },
  {
   "cell_type": "code",
   "execution_count": 79,
   "id": "71cd0207",
   "metadata": {},
   "outputs": [
    {
     "data": {
      "text/plain": [
       "1    320\n",
       "0      8\n",
       "Name: resigned, dtype: int64"
      ]
     },
     "execution_count": 79,
     "metadata": {},
     "output_type": "execute_result"
    }
   ],
   "source": [
    "val_y.resigned.value_counts()"
   ]
  },
  {
   "cell_type": "markdown",
   "id": "a764af27",
   "metadata": {},
   "source": [
    "**Model Building**"
   ]
  },
  {
   "cell_type": "code",
   "execution_count": 80,
   "id": "abe2d768",
   "metadata": {},
   "outputs": [
    {
     "data": {
      "text/plain": [
       "LogisticRegression()"
      ]
     },
     "execution_count": 80,
     "metadata": {},
     "output_type": "execute_result"
    }
   ],
   "source": [
    "# Logistic Regression\n",
    "from sklearn.linear_model import LogisticRegression,LogisticRegressionCV\n",
    "\n",
    "# Build the model\n",
    "lreg1 = LogisticRegression()\n",
    "\n",
    "# Fit the model on train\n",
    "lreg1.fit(train_x, train_y)"
   ]
  },
  {
   "cell_type": "code",
   "execution_count": 81,
   "id": "f85354bf",
   "metadata": {},
   "outputs": [],
   "source": [
    "# Predict on train and val\n",
    "train_pred = lreg1.predict(train_x)\n",
    "val_pred = lreg1.predict(val_x)"
   ]
  },
  {
   "cell_type": "code",
   "execution_count": 82,
   "id": "5718894c",
   "metadata": {},
   "outputs": [],
   "source": [
    "# Model Evaluation\n",
    "from sklearn.metrics import accuracy_score, recall_score, f1_score, roc_curve, confusion_matrix, classification_report\n",
    "confusion_matrix_train = confusion_matrix(train_y, train_pred)\n",
    "confusion_matrix_val = confusion_matrix(val_y, val_pred)"
   ]
  },
  {
   "cell_type": "code",
   "execution_count": 83,
   "id": "77786251",
   "metadata": {},
   "outputs": [
    {
     "name": "stdout",
     "output_type": "stream",
     "text": [
      "[[   0   16]\n",
      " [   0 1296]]\n",
      "\n",
      "\n",
      "[[  0   8]\n",
      " [  0 320]]\n"
     ]
    }
   ],
   "source": [
    "print(confusion_matrix_train)\n",
    "print(\"\\n\")\n",
    "print(confusion_matrix_val)"
   ]
  },
  {
   "cell_type": "code",
   "execution_count": 84,
   "id": "dd09c903",
   "metadata": {},
   "outputs": [
    {
     "name": "stdout",
     "output_type": "stream",
     "text": [
      "              precision    recall  f1-score   support\n",
      "\n",
      "           0       0.00      0.00      0.00        16\n",
      "           1       0.99      1.00      0.99      1296\n",
      "\n",
      "    accuracy                           0.99      1312\n",
      "   macro avg       0.49      0.50      0.50      1312\n",
      "weighted avg       0.98      0.99      0.98      1312\n",
      "\n",
      "\n",
      "\n",
      "              precision    recall  f1-score   support\n",
      "\n",
      "           0       0.00      0.00      0.00         8\n",
      "           1       0.98      1.00      0.99       320\n",
      "\n",
      "    accuracy                           0.98       328\n",
      "   macro avg       0.49      0.50      0.49       328\n",
      "weighted avg       0.95      0.98      0.96       328\n",
      "\n"
     ]
    }
   ],
   "source": [
    "print(classification_report(train_y, train_pred))\n",
    "print(\"\\n\")\n",
    "print(classification_report(val_y, val_pred))"
   ]
  },
  {
   "cell_type": "code",
   "execution_count": 85,
   "id": "0f1865c5",
   "metadata": {},
   "outputs": [
    {
     "name": "stdout",
     "output_type": "stream",
     "text": [
      "resigned\n",
      "0           1296\n",
      "1           1296\n",
      "dtype: int64\n"
     ]
    },
    {
     "data": {
      "text/plain": [
       "LogisticRegression()"
      ]
     },
     "execution_count": 85,
     "metadata": {},
     "output_type": "execute_result"
    }
   ],
   "source": [
    "# Logistic Regression with SMOTE\n",
    "from imblearn.over_sampling import SMOTE\n",
    "oversample = SMOTE()\n",
    "train_x_smote, train_y_smote = oversample.fit_resample(train_x, train_y)\n",
    "print(train_y_smote.value_counts())\n",
    "\n",
    "\n",
    "# Build the model\n",
    "lreg2 = LogisticRegression()\n",
    "\n",
    "# Fit the model on train\n",
    "lreg2.fit(train_x_smote, train_y_smote)"
   ]
  },
  {
   "cell_type": "code",
   "execution_count": 86,
   "id": "6008fa36",
   "metadata": {},
   "outputs": [],
   "source": [
    "# Predict on train and val\n",
    "train_pred = lreg2.predict(train_x)\n",
    "val_pred = lreg2.predict(val_x)"
   ]
  },
  {
   "cell_type": "code",
   "execution_count": 87,
   "id": "1bf93937",
   "metadata": {},
   "outputs": [],
   "source": [
    "# Model Evaluation\n",
    "from sklearn.metrics import accuracy_score, recall_score, f1_score, roc_curve, confusion_matrix, classification_report\n",
    "confusion_matrix_train = confusion_matrix(train_y, train_pred)\n",
    "confusion_matrix_val = confusion_matrix(val_y, val_pred)"
   ]
  },
  {
   "cell_type": "code",
   "execution_count": 88,
   "id": "0982f501",
   "metadata": {},
   "outputs": [
    {
     "name": "stdout",
     "output_type": "stream",
     "text": [
      "[[   2   14]\n",
      " [  38 1258]]\n",
      "\n",
      "\n",
      "[[  1   7]\n",
      " [ 10 310]]\n"
     ]
    }
   ],
   "source": [
    "print(confusion_matrix_train)\n",
    "print(\"\\n\")\n",
    "print(confusion_matrix_val)"
   ]
  },
  {
   "cell_type": "code",
   "execution_count": 89,
   "id": "2a0bbde8",
   "metadata": {},
   "outputs": [
    {
     "name": "stdout",
     "output_type": "stream",
     "text": [
      "              precision    recall  f1-score   support\n",
      "\n",
      "           0       0.05      0.12      0.07        16\n",
      "           1       0.99      0.97      0.98      1296\n",
      "\n",
      "    accuracy                           0.96      1312\n",
      "   macro avg       0.52      0.55      0.53      1312\n",
      "weighted avg       0.98      0.96      0.97      1312\n",
      "\n",
      "\n",
      "\n",
      "              precision    recall  f1-score   support\n",
      "\n",
      "           0       0.09      0.12      0.11         8\n",
      "           1       0.98      0.97      0.97       320\n",
      "\n",
      "    accuracy                           0.95       328\n",
      "   macro avg       0.53      0.55      0.54       328\n",
      "weighted avg       0.96      0.95      0.95       328\n",
      "\n"
     ]
    }
   ],
   "source": [
    "print(classification_report(train_y, train_pred))\n",
    "print(\"\\n\")\n",
    "print(classification_report(val_y, val_pred))"
   ]
  },
  {
   "cell_type": "code",
   "execution_count": 90,
   "id": "98664497",
   "metadata": {},
   "outputs": [
    {
     "name": "stdout",
     "output_type": "stream",
     "text": [
      "CPU times: user 9.96 ms, sys: 1.7 ms, total: 11.7 ms\n",
      "Wall time: 11.1 ms\n"
     ]
    },
    {
     "data": {
      "text/plain": [
       "DecisionTreeClassifier(class_weight='balanced', max_depth=4, random_state=1)"
      ]
     },
     "execution_count": 90,
     "metadata": {},
     "output_type": "execute_result"
    }
   ],
   "source": [
    "# Decision Tree\n",
    "from sklearn.tree import DecisionTreeClassifier\n",
    "dt1 = DecisionTreeClassifier(random_state = 1, class_weight = 'balanced', max_depth = 4)\n",
    "#Fit the model on train\n",
    "%time dt1.fit(train_x, train_y)"
   ]
  },
  {
   "cell_type": "code",
   "execution_count": 91,
   "id": "728af20f",
   "metadata": {},
   "outputs": [],
   "source": [
    "# Predict on train and val\n",
    "train_pred = dt1.predict(train_x)\n",
    "val_pred = dt1.predict(val_x)"
   ]
  },
  {
   "cell_type": "code",
   "execution_count": 92,
   "id": "3d68ec28",
   "metadata": {},
   "outputs": [],
   "source": [
    "# Model Evaluation\n",
    "from sklearn.metrics import accuracy_score, recall_score, f1_score, roc_curve, confusion_matrix, classification_report\n",
    "confusion_matrix_train = confusion_matrix(train_y, train_pred)\n",
    "confusion_matrix_val = confusion_matrix(val_y, val_pred)"
   ]
  },
  {
   "cell_type": "code",
   "execution_count": 93,
   "id": "fea040fd",
   "metadata": {
    "scrolled": true
   },
   "outputs": [
    {
     "name": "stdout",
     "output_type": "stream",
     "text": [
      "[[ 16   0]\n",
      " [516 780]]\n",
      "\n",
      "\n",
      "[[  4   4]\n",
      " [120 200]]\n"
     ]
    }
   ],
   "source": [
    "print(confusion_matrix_train)\n",
    "print(\"\\n\")\n",
    "print(confusion_matrix_val)"
   ]
  },
  {
   "cell_type": "code",
   "execution_count": 94,
   "id": "d94bb817",
   "metadata": {},
   "outputs": [
    {
     "name": "stdout",
     "output_type": "stream",
     "text": [
      "              precision    recall  f1-score   support\n",
      "\n",
      "           0       0.03      1.00      0.06        16\n",
      "           1       1.00      0.60      0.75      1296\n",
      "\n",
      "    accuracy                           0.61      1312\n",
      "   macro avg       0.52      0.80      0.40      1312\n",
      "weighted avg       0.99      0.61      0.74      1312\n",
      "\n",
      "\n",
      "\n",
      "              precision    recall  f1-score   support\n",
      "\n",
      "           0       0.03      0.50      0.06         8\n",
      "           1       0.98      0.62      0.76       320\n",
      "\n",
      "    accuracy                           0.62       328\n",
      "   macro avg       0.51      0.56      0.41       328\n",
      "weighted avg       0.96      0.62      0.75       328\n",
      "\n"
     ]
    }
   ],
   "source": [
    "print(classification_report(train_y, train_pred))\n",
    "print(\"\\n\")\n",
    "print(classification_report(val_y, val_pred))"
   ]
  },
  {
   "cell_type": "code",
   "execution_count": 95,
   "id": "ef2159af",
   "metadata": {},
   "outputs": [
    {
     "name": "stdout",
     "output_type": "stream",
     "text": [
      "CPU times: user 1.34 s, sys: 142 ms, total: 1.48 s\n",
      "Wall time: 14.4 s\n",
      "0.898617857969003 {'criterion': 'gini', 'max_depth': 9, 'min_samples_leaf': 3}\n"
     ]
    }
   ],
   "source": [
    "# Decision Tree with param grid\n",
    "from sklearn.model_selection import GridSearchCV\n",
    "dt_grid = DecisionTreeClassifier(random_state = 2, class_weight = 'balanced')\n",
    "\n",
    "param_grid = {\"min_samples_leaf\": [2,3,4,5,6,7,8,9,10],\n",
    "              \"max_depth\": [2,3,4,5,6,7,8,9],\n",
    "              \"criterion\": ['entropy', 'gini']}\n",
    "\n",
    "dt2 = GridSearchCV(dt_grid, param_grid, cv = 10, n_jobs = -1)\n",
    "# Fit the model on train\n",
    "%time dt2.fit(train_x,train_y)\n",
    "print(dt2.best_score_,dt2.best_params_)"
   ]
  },
  {
   "cell_type": "code",
   "execution_count": 96,
   "id": "d516af5e",
   "metadata": {},
   "outputs": [],
   "source": [
    "# Predict on train and val\n",
    "train_pred = dt2.predict(train_x)\n",
    "val_pred = dt2.predict(val_x)"
   ]
  },
  {
   "cell_type": "code",
   "execution_count": 97,
   "id": "75f1469f",
   "metadata": {},
   "outputs": [],
   "source": [
    "# Model Evaluation\n",
    "from sklearn.metrics import accuracy_score, recall_score, f1_score, roc_curve, confusion_matrix, classification_report\n",
    "confusion_matrix_train = confusion_matrix(train_y, train_pred)\n",
    "confusion_matrix_val = confusion_matrix(val_y, val_pred)"
   ]
  },
  {
   "cell_type": "code",
   "execution_count": 98,
   "id": "48200080",
   "metadata": {
    "scrolled": true
   },
   "outputs": [
    {
     "name": "stdout",
     "output_type": "stream",
     "text": [
      "[[  16    0]\n",
      " [ 155 1141]]\n",
      "\n",
      "\n",
      "[[  1   7]\n",
      " [ 36 284]]\n"
     ]
    }
   ],
   "source": [
    "print(confusion_matrix_train)\n",
    "print(\"\\n\")\n",
    "print(confusion_matrix_val)"
   ]
  },
  {
   "cell_type": "code",
   "execution_count": 99,
   "id": "04bbbd52",
   "metadata": {},
   "outputs": [
    {
     "name": "stdout",
     "output_type": "stream",
     "text": [
      "              precision    recall  f1-score   support\n",
      "\n",
      "           0       0.09      1.00      0.17        16\n",
      "           1       1.00      0.88      0.94      1296\n",
      "\n",
      "    accuracy                           0.88      1312\n",
      "   macro avg       0.55      0.94      0.55      1312\n",
      "weighted avg       0.99      0.88      0.93      1312\n",
      "\n",
      "\n",
      "\n",
      "              precision    recall  f1-score   support\n",
      "\n",
      "           0       0.03      0.12      0.04         8\n",
      "           1       0.98      0.89      0.93       320\n",
      "\n",
      "    accuracy                           0.87       328\n",
      "   macro avg       0.50      0.51      0.49       328\n",
      "weighted avg       0.95      0.87      0.91       328\n",
      "\n"
     ]
    }
   ],
   "source": [
    "print(classification_report(train_y, train_pred))\n",
    "print(\"\\n\")\n",
    "print(classification_report(val_y, val_pred))"
   ]
  },
  {
   "cell_type": "code",
   "execution_count": 100,
   "id": "5ef56b7f",
   "metadata": {},
   "outputs": [
    {
     "name": "stdout",
     "output_type": "stream",
     "text": [
      "CPU times: user 1.76 s, sys: 133 ms, total: 1.89 s\n",
      "Wall time: 14.5 s\n",
      "0.9436842886842886 {'criterion': 'gini', 'max_depth': 9, 'min_samples_leaf': 9}\n"
     ]
    }
   ],
   "source": [
    "# Decision Tree with param grid and SMOTE\n",
    "from sklearn.model_selection import GridSearchCV\n",
    "dt_grid = DecisionTreeClassifier(random_state = 2, class_weight = 'balanced')\n",
    "\n",
    "param_grid = {\"min_samples_leaf\": [2,3,4,5,6,7,8,9,10],\n",
    "              \"max_depth\": [2,3,4,5,6,7,8,9],\n",
    "              \"criterion\": ['entropy', 'gini']}\n",
    "\n",
    "dt3 = GridSearchCV(dt_grid, param_grid, cv = 10, n_jobs = -1)\n",
    "# Fit the model on train\n",
    "%time dt3.fit(train_x_smote, train_y_smote)\n",
    "print(dt3.best_score_, dt3.best_params_)"
   ]
  },
  {
   "cell_type": "code",
   "execution_count": 101,
   "id": "b450f039",
   "metadata": {},
   "outputs": [],
   "source": [
    "# Predict on train and val\n",
    "train_pred = dt3.predict(train_x)\n",
    "val_pred = dt3.predict(val_x)"
   ]
  },
  {
   "cell_type": "code",
   "execution_count": 102,
   "id": "eaa14d86",
   "metadata": {},
   "outputs": [],
   "source": [
    "# Model Evaluation\n",
    "from sklearn.metrics import accuracy_score, recall_score, f1_score, roc_curve, confusion_matrix, classification_report\n",
    "confusion_matrix_train = confusion_matrix(train_y, train_pred)\n",
    "confusion_matrix_val = confusion_matrix(val_y, val_pred)"
   ]
  },
  {
   "cell_type": "code",
   "execution_count": 103,
   "id": "8a706780",
   "metadata": {
    "scrolled": true
   },
   "outputs": [
    {
     "name": "stdout",
     "output_type": "stream",
     "text": [
      "[[   6   10]\n",
      " [  82 1214]]\n",
      "\n",
      "\n",
      "[[  0   8]\n",
      " [ 24 296]]\n"
     ]
    }
   ],
   "source": [
    "print(confusion_matrix_train)\n",
    "print(\"\\n\")\n",
    "print(confusion_matrix_val)"
   ]
  },
  {
   "cell_type": "code",
   "execution_count": 104,
   "id": "76386287",
   "metadata": {},
   "outputs": [
    {
     "name": "stdout",
     "output_type": "stream",
     "text": [
      "              precision    recall  f1-score   support\n",
      "\n",
      "           0       0.07      0.38      0.12        16\n",
      "           1       0.99      0.94      0.96      1296\n",
      "\n",
      "    accuracy                           0.93      1312\n",
      "   macro avg       0.53      0.66      0.54      1312\n",
      "weighted avg       0.98      0.93      0.95      1312\n",
      "\n",
      "\n",
      "\n",
      "              precision    recall  f1-score   support\n",
      "\n",
      "           0       0.00      0.00      0.00         8\n",
      "           1       0.97      0.93      0.95       320\n",
      "\n",
      "    accuracy                           0.90       328\n",
      "   macro avg       0.49      0.46      0.47       328\n",
      "weighted avg       0.95      0.90      0.93       328\n",
      "\n"
     ]
    }
   ],
   "source": [
    "print(classification_report(train_y, train_pred))\n",
    "print(\"\\n\")\n",
    "print(classification_report(val_y, val_pred))"
   ]
  },
  {
   "cell_type": "code",
   "execution_count": 105,
   "id": "82c71083",
   "metadata": {},
   "outputs": [
    {
     "data": {
      "text/plain": [
       "RandomForestClassifier(class_weight='balanced', random_state=2)"
      ]
     },
     "execution_count": 105,
     "metadata": {},
     "output_type": "execute_result"
    }
   ],
   "source": [
    "# Random Forest\n",
    "from sklearn.ensemble import RandomForestClassifier\n",
    "rf1 = RandomForestClassifier(random_state = 2, class_weight = 'balanced')\n",
    "# Fit the model on train\n",
    "rf1.fit(train_x, train_y)"
   ]
  },
  {
   "cell_type": "code",
   "execution_count": 106,
   "id": "3692916f",
   "metadata": {},
   "outputs": [],
   "source": [
    "# Predict on train and val\n",
    "train_pred = rf1.predict(train_x)\n",
    "val_pred = rf1.predict(val_x)"
   ]
  },
  {
   "cell_type": "code",
   "execution_count": 107,
   "id": "fa56dda5",
   "metadata": {},
   "outputs": [],
   "source": [
    "# Model Evaluation\n",
    "from sklearn.metrics import accuracy_score, recall_score, f1_score, roc_curve, confusion_matrix, classification_report\n",
    "confusion_matrix_train = confusion_matrix(train_y, train_pred)\n",
    "confusion_matrix_val = confusion_matrix(val_y, val_pred)"
   ]
  },
  {
   "cell_type": "code",
   "execution_count": 108,
   "id": "07be830c",
   "metadata": {
    "scrolled": true
   },
   "outputs": [
    {
     "name": "stdout",
     "output_type": "stream",
     "text": [
      "[[  16    0]\n",
      " [   0 1296]]\n",
      "\n",
      "\n",
      "[[  0   8]\n",
      " [  0 320]]\n"
     ]
    }
   ],
   "source": [
    "print(confusion_matrix_train)\n",
    "print(\"\\n\")\n",
    "print(confusion_matrix_val)"
   ]
  },
  {
   "cell_type": "code",
   "execution_count": 109,
   "id": "f5d9a083",
   "metadata": {},
   "outputs": [
    {
     "name": "stdout",
     "output_type": "stream",
     "text": [
      "              precision    recall  f1-score   support\n",
      "\n",
      "           0       1.00      1.00      1.00        16\n",
      "           1       1.00      1.00      1.00      1296\n",
      "\n",
      "    accuracy                           1.00      1312\n",
      "   macro avg       1.00      1.00      1.00      1312\n",
      "weighted avg       1.00      1.00      1.00      1312\n",
      "\n",
      "\n",
      "\n",
      "              precision    recall  f1-score   support\n",
      "\n",
      "           0       0.00      0.00      0.00         8\n",
      "           1       0.98      1.00      0.99       320\n",
      "\n",
      "    accuracy                           0.98       328\n",
      "   macro avg       0.49      0.50      0.49       328\n",
      "weighted avg       0.95      0.98      0.96       328\n",
      "\n"
     ]
    }
   ],
   "source": [
    "print(classification_report(train_y, train_pred))\n",
    "print(\"\\n\")\n",
    "print(classification_report(val_y, val_pred))"
   ]
  },
  {
   "cell_type": "code",
   "execution_count": 110,
   "id": "c25c555f",
   "metadata": {},
   "outputs": [
    {
     "name": "stdout",
     "output_type": "stream",
     "text": [
      "CPU times: user 15.8 s, sys: 1.33 s, total: 17.1 s\n",
      "Wall time: 10min 50s\n",
      "0.9878065770760166 {'criterion': 'entropy', 'max_depth': 6, 'max_features': 'auto', 'min_samples_leaf': 1, 'min_samples_split': 2, 'n_estimators': 40}\n"
     ]
    }
   ],
   "source": [
    "# Random Forest with Grid\n",
    "from sklearn.ensemble import RandomForestClassifier\n",
    "rf_grid = RandomForestClassifier(random_state = 2, class_weight = 'balanced')\n",
    "param_grid = {\"min_samples_split\": [2,5,10],\n",
    "              \"min_samples_leaf\": [1,2,4],\n",
    "              \"max_depth\": [2,4,6,8,10,None],\n",
    "              \"criterion\": ['entropy', 'gini'],\n",
    "              \"n_estimators\" : [40,80,120,160,200],\n",
    "              \"max_features\": ['auto','sqrt']}\n",
    "rf2 = GridSearchCV(rf_grid, param_grid, cv = 5, n_jobs = -1)\n",
    "# Fit the model on train\n",
    "%time rf2.fit(train_x, train_y)\n",
    "print(rf2.best_score_, rf2.best_params_)"
   ]
  },
  {
   "cell_type": "code",
   "execution_count": 111,
   "id": "debb1781",
   "metadata": {},
   "outputs": [],
   "source": [
    "# Predict on train and val\n",
    "train_pred = rf2.predict(train_x)\n",
    "val_pred = rf2.predict(val_x)"
   ]
  },
  {
   "cell_type": "code",
   "execution_count": 112,
   "id": "5f1a3587",
   "metadata": {},
   "outputs": [],
   "source": [
    "# Model Evaluation\n",
    "from sklearn.metrics import accuracy_score, recall_score, f1_score, roc_curve, confusion_matrix, classification_report\n",
    "confusion_matrix_train = confusion_matrix(train_y, train_pred)\n",
    "confusion_matrix_val = confusion_matrix(val_y, val_pred)"
   ]
  },
  {
   "cell_type": "code",
   "execution_count": 113,
   "id": "345faf92",
   "metadata": {
    "scrolled": true
   },
   "outputs": [
    {
     "name": "stdout",
     "output_type": "stream",
     "text": [
      "[[  13    3]\n",
      " [   3 1293]]\n",
      "\n",
      "\n",
      "[[  0   8]\n",
      " [  2 318]]\n"
     ]
    }
   ],
   "source": [
    "print(confusion_matrix_train)\n",
    "print(\"\\n\")\n",
    "print(confusion_matrix_val)"
   ]
  },
  {
   "cell_type": "code",
   "execution_count": 114,
   "id": "f498bb12",
   "metadata": {},
   "outputs": [
    {
     "name": "stdout",
     "output_type": "stream",
     "text": [
      "              precision    recall  f1-score   support\n",
      "\n",
      "           0       0.81      0.81      0.81        16\n",
      "           1       1.00      1.00      1.00      1296\n",
      "\n",
      "    accuracy                           1.00      1312\n",
      "   macro avg       0.91      0.91      0.91      1312\n",
      "weighted avg       1.00      1.00      1.00      1312\n",
      "\n",
      "\n",
      "\n",
      "              precision    recall  f1-score   support\n",
      "\n",
      "           0       0.00      0.00      0.00         8\n",
      "           1       0.98      0.99      0.98       320\n",
      "\n",
      "    accuracy                           0.97       328\n",
      "   macro avg       0.49      0.50      0.49       328\n",
      "weighted avg       0.95      0.97      0.96       328\n",
      "\n"
     ]
    }
   ],
   "source": [
    "print(classification_report(train_y, train_pred))\n",
    "print(\"\\n\")\n",
    "print(classification_report(val_y, val_pred))"
   ]
  },
  {
   "cell_type": "code",
   "execution_count": 115,
   "id": "2af864a1",
   "metadata": {},
   "outputs": [
    {
     "name": "stdout",
     "output_type": "stream",
     "text": [
      "CPU times: user 15.9 s, sys: 1.36 s, total: 17.3 s\n",
      "Wall time: 13min 58s\n",
      "0.9926745077034095 {'criterion': 'gini', 'max_depth': None, 'max_features': 'auto', 'min_samples_leaf': 1, 'min_samples_split': 5, 'n_estimators': 120}\n"
     ]
    }
   ],
   "source": [
    "# Random Forest with Grid and SMOTE\n",
    "from sklearn.ensemble import RandomForestClassifier\n",
    "rf_grid = RandomForestClassifier(random_state = 2, class_weight = 'balanced')\n",
    "param_grid = {\"min_samples_split\": [2,5,10],\n",
    "              \"min_samples_leaf\": [1,2,4],\n",
    "              \"max_depth\": [2,4,6,8,10,None],\n",
    "              \"criterion\": ['entropy', 'gini'],\n",
    "              \"n_estimators\" : [40,80,120,160,200],\n",
    "              \"max_features\": ['auto','sqrt']}\n",
    "rf3 = GridSearchCV(rf_grid, param_grid, cv = 5, n_jobs = -1)\n",
    "# Fit the model on train\n",
    "%time rf3.fit(train_x_smote, train_y_smote)\n",
    "print(rf3.best_score_, rf3.best_params_)"
   ]
  },
  {
   "cell_type": "code",
   "execution_count": 116,
   "id": "50d4107f",
   "metadata": {},
   "outputs": [],
   "source": [
    "# Predict on train and val\n",
    "train_pred = rf3.predict(train_x)\n",
    "val_pred = rf3.predict(val_x)"
   ]
  },
  {
   "cell_type": "code",
   "execution_count": 117,
   "id": "e8e971a8",
   "metadata": {},
   "outputs": [],
   "source": [
    "# Model Evaluation\n",
    "from sklearn.metrics import accuracy_score, recall_score, f1_score, roc_curve, confusion_matrix, classification_report\n",
    "confusion_matrix_train = confusion_matrix(train_y, train_pred)\n",
    "confusion_matrix_val = confusion_matrix(val_y, val_pred)"
   ]
  },
  {
   "cell_type": "code",
   "execution_count": 118,
   "id": "a8c4e4d1",
   "metadata": {
    "scrolled": true
   },
   "outputs": [
    {
     "name": "stdout",
     "output_type": "stream",
     "text": [
      "[[  11    5]\n",
      " [   0 1296]]\n",
      "\n",
      "\n",
      "[[  0   8]\n",
      " [  2 318]]\n"
     ]
    }
   ],
   "source": [
    "print(confusion_matrix_train)\n",
    "print(\"\\n\")\n",
    "print(confusion_matrix_val)"
   ]
  },
  {
   "cell_type": "code",
   "execution_count": 119,
   "id": "b26bb81e",
   "metadata": {},
   "outputs": [
    {
     "name": "stdout",
     "output_type": "stream",
     "text": [
      "              precision    recall  f1-score   support\n",
      "\n",
      "           0       1.00      0.69      0.81        16\n",
      "           1       1.00      1.00      1.00      1296\n",
      "\n",
      "    accuracy                           1.00      1312\n",
      "   macro avg       1.00      0.84      0.91      1312\n",
      "weighted avg       1.00      1.00      1.00      1312\n",
      "\n",
      "\n",
      "\n",
      "              precision    recall  f1-score   support\n",
      "\n",
      "           0       0.00      0.00      0.00         8\n",
      "           1       0.98      0.99      0.98       320\n",
      "\n",
      "    accuracy                           0.97       328\n",
      "   macro avg       0.49      0.50      0.49       328\n",
      "weighted avg       0.95      0.97      0.96       328\n",
      "\n"
     ]
    }
   ],
   "source": [
    "print(classification_report(train_y, train_pred))\n",
    "print(\"\\n\")\n",
    "print(classification_report(val_y, val_pred))"
   ]
  },
  {
   "cell_type": "markdown",
   "id": "cef45243",
   "metadata": {},
   "source": [
    "#### AutoEncoders (as dataset is hugely imbalanced)"
   ]
  },
  {
   "cell_type": "code",
   "execution_count": 120,
   "id": "8d51d12f",
   "metadata": {},
   "outputs": [
    {
     "name": "stdout",
     "output_type": "stream",
     "text": [
      "(1312, 44) (328, 44)\n"
     ]
    }
   ],
   "source": [
    "train = pd.concat([train_x, train_y], axis = 1)\n",
    "val = pd.concat([val_x, val_y], axis = 1)\n",
    "print(train.shape, val.shape)"
   ]
  },
  {
   "cell_type": "code",
   "execution_count": 121,
   "id": "ccad388c",
   "metadata": {},
   "outputs": [
    {
     "data": {
      "text/plain": [
       "(1640, 44)"
      ]
     },
     "execution_count": 121,
     "metadata": {},
     "output_type": "execute_result"
    }
   ],
   "source": [
    "data = pd.concat([train, val], axis = 0)\n",
    "data.shape"
   ]
  },
  {
   "cell_type": "code",
   "execution_count": 122,
   "id": "7746e23b",
   "metadata": {},
   "outputs": [
    {
     "data": {
      "text/html": [
       "<div>\n",
       "<style scoped>\n",
       "    .dataframe tbody tr th:only-of-type {\n",
       "        vertical-align: middle;\n",
       "    }\n",
       "\n",
       "    .dataframe tbody tr th {\n",
       "        vertical-align: top;\n",
       "    }\n",
       "\n",
       "    .dataframe thead th {\n",
       "        text-align: right;\n",
       "    }\n",
       "</style>\n",
       "<table border=\"1\" class=\"dataframe\">\n",
       "  <thead>\n",
       "    <tr style=\"text-align: right;\">\n",
       "      <th></th>\n",
       "      <th>Salary</th>\n",
       "      <th>Joining Designation</th>\n",
       "      <th>Designation</th>\n",
       "      <th>TBV</th>\n",
       "      <th>QR</th>\n",
       "      <th>tenure</th>\n",
       "      <th>Gender_Male</th>\n",
       "      <th>City_C10</th>\n",
       "      <th>City_C11</th>\n",
       "      <th>City_C12</th>\n",
       "      <th>...</th>\n",
       "      <th>City_C9</th>\n",
       "      <th>Education_Level_College</th>\n",
       "      <th>Education_Level_Master</th>\n",
       "      <th>Age_binned_AG2</th>\n",
       "      <th>Age_binned_AG3</th>\n",
       "      <th>Age_binned_AG4</th>\n",
       "      <th>Age_binned_AG5</th>\n",
       "      <th>Age_binned_AG6</th>\n",
       "      <th>Age_binned_AG7</th>\n",
       "      <th>resigned</th>\n",
       "    </tr>\n",
       "  </thead>\n",
       "  <tbody>\n",
       "    <tr>\n",
       "      <th>63</th>\n",
       "      <td>-0.826363</td>\n",
       "      <td>-0.906383</td>\n",
       "      <td>-1.044117</td>\n",
       "      <td>-0.407506</td>\n",
       "      <td>-0.668109</td>\n",
       "      <td>-0.524900</td>\n",
       "      <td>0</td>\n",
       "      <td>0</td>\n",
       "      <td>0</td>\n",
       "      <td>0</td>\n",
       "      <td>...</td>\n",
       "      <td>0</td>\n",
       "      <td>0</td>\n",
       "      <td>0</td>\n",
       "      <td>0</td>\n",
       "      <td>1</td>\n",
       "      <td>0</td>\n",
       "      <td>0</td>\n",
       "      <td>0</td>\n",
       "      <td>0</td>\n",
       "      <td>1</td>\n",
       "    </tr>\n",
       "    <tr>\n",
       "      <th>1308</th>\n",
       "      <td>-1.225248</td>\n",
       "      <td>-0.906383</td>\n",
       "      <td>-1.044117</td>\n",
       "      <td>-0.331915</td>\n",
       "      <td>-0.668109</td>\n",
       "      <td>0.068153</td>\n",
       "      <td>0</td>\n",
       "      <td>1</td>\n",
       "      <td>0</td>\n",
       "      <td>0</td>\n",
       "      <td>...</td>\n",
       "      <td>0</td>\n",
       "      <td>1</td>\n",
       "      <td>0</td>\n",
       "      <td>0</td>\n",
       "      <td>1</td>\n",
       "      <td>0</td>\n",
       "      <td>0</td>\n",
       "      <td>0</td>\n",
       "      <td>0</td>\n",
       "      <td>1</td>\n",
       "    </tr>\n",
       "    <tr>\n",
       "      <th>1018</th>\n",
       "      <td>-0.628110</td>\n",
       "      <td>0.303357</td>\n",
       "      <td>0.050912</td>\n",
       "      <td>-0.458849</td>\n",
       "      <td>-0.668109</td>\n",
       "      <td>-0.506450</td>\n",
       "      <td>1</td>\n",
       "      <td>0</td>\n",
       "      <td>0</td>\n",
       "      <td>0</td>\n",
       "      <td>...</td>\n",
       "      <td>0</td>\n",
       "      <td>0</td>\n",
       "      <td>0</td>\n",
       "      <td>1</td>\n",
       "      <td>0</td>\n",
       "      <td>0</td>\n",
       "      <td>0</td>\n",
       "      <td>0</td>\n",
       "      <td>0</td>\n",
       "      <td>1</td>\n",
       "    </tr>\n",
       "    <tr>\n",
       "      <th>1046</th>\n",
       "      <td>1.333150</td>\n",
       "      <td>-0.906383</td>\n",
       "      <td>1.145941</td>\n",
       "      <td>1.730095</td>\n",
       "      <td>1.290830</td>\n",
       "      <td>-0.245506</td>\n",
       "      <td>1</td>\n",
       "      <td>0</td>\n",
       "      <td>0</td>\n",
       "      <td>0</td>\n",
       "      <td>...</td>\n",
       "      <td>0</td>\n",
       "      <td>1</td>\n",
       "      <td>0</td>\n",
       "      <td>0</td>\n",
       "      <td>0</td>\n",
       "      <td>0</td>\n",
       "      <td>1</td>\n",
       "      <td>0</td>\n",
       "      <td>0</td>\n",
       "      <td>1</td>\n",
       "    </tr>\n",
       "    <tr>\n",
       "      <th>1202</th>\n",
       "      <td>0.021752</td>\n",
       "      <td>0.303357</td>\n",
       "      <td>0.050912</td>\n",
       "      <td>-0.458849</td>\n",
       "      <td>-0.668109</td>\n",
       "      <td>-0.545986</td>\n",
       "      <td>1</td>\n",
       "      <td>0</td>\n",
       "      <td>0</td>\n",
       "      <td>0</td>\n",
       "      <td>...</td>\n",
       "      <td>0</td>\n",
       "      <td>0</td>\n",
       "      <td>1</td>\n",
       "      <td>0</td>\n",
       "      <td>1</td>\n",
       "      <td>0</td>\n",
       "      <td>0</td>\n",
       "      <td>0</td>\n",
       "      <td>0</td>\n",
       "      <td>1</td>\n",
       "    </tr>\n",
       "  </tbody>\n",
       "</table>\n",
       "<p>5 rows × 44 columns</p>\n",
       "</div>"
      ],
      "text/plain": [
       "        Salary  Joining Designation  Designation       TBV        QR  \\\n",
       "63   -0.826363            -0.906383    -1.044117 -0.407506 -0.668109   \n",
       "1308 -1.225248            -0.906383    -1.044117 -0.331915 -0.668109   \n",
       "1018 -0.628110             0.303357     0.050912 -0.458849 -0.668109   \n",
       "1046  1.333150            -0.906383     1.145941  1.730095  1.290830   \n",
       "1202  0.021752             0.303357     0.050912 -0.458849 -0.668109   \n",
       "\n",
       "        tenure  Gender_Male  City_C10  City_C11  City_C12  ...  City_C9  \\\n",
       "63   -0.524900            0         0         0         0  ...        0   \n",
       "1308  0.068153            0         1         0         0  ...        0   \n",
       "1018 -0.506450            1         0         0         0  ...        0   \n",
       "1046 -0.245506            1         0         0         0  ...        0   \n",
       "1202 -0.545986            1         0         0         0  ...        0   \n",
       "\n",
       "      Education_Level_College  Education_Level_Master  Age_binned_AG2  \\\n",
       "63                          0                       0               0   \n",
       "1308                        1                       0               0   \n",
       "1018                        0                       0               1   \n",
       "1046                        1                       0               0   \n",
       "1202                        0                       1               0   \n",
       "\n",
       "      Age_binned_AG3  Age_binned_AG4  Age_binned_AG5  Age_binned_AG6  \\\n",
       "63                 1               0               0               0   \n",
       "1308               1               0               0               0   \n",
       "1018               0               0               0               0   \n",
       "1046               0               0               1               0   \n",
       "1202               1               0               0               0   \n",
       "\n",
       "      Age_binned_AG7  resigned  \n",
       "63                 0         1  \n",
       "1308               0         1  \n",
       "1018               0         1  \n",
       "1046               0         1  \n",
       "1202               0         1  \n",
       "\n",
       "[5 rows x 44 columns]"
      ]
     },
     "execution_count": 122,
     "metadata": {},
     "output_type": "execute_result"
    }
   ],
   "source": [
    "data.head()"
   ]
  },
  {
   "cell_type": "code",
   "execution_count": 123,
   "id": "597dfea3",
   "metadata": {},
   "outputs": [
    {
     "data": {
      "text/plain": [
       "Index(['Salary', 'Joining Designation', 'Designation', 'TBV', 'QR', 'tenure',\n",
       "       'Gender_Male', 'City_C10', 'City_C11', 'City_C12', 'City_C13',\n",
       "       'City_C14', 'City_C15', 'City_C16', 'City_C17', 'City_C18', 'City_C19',\n",
       "       'City_C2', 'City_C20', 'City_C21', 'City_C22', 'City_C23', 'City_C24',\n",
       "       'City_C25', 'City_C26', 'City_C27', 'City_C28', 'City_C29', 'City_C3',\n",
       "       'City_C4', 'City_C5', 'City_C6', 'City_C7', 'City_C8', 'City_C9',\n",
       "       'Education_Level_College', 'Education_Level_Master', 'Age_binned_AG2',\n",
       "       'Age_binned_AG3', 'Age_binned_AG4', 'Age_binned_AG5', 'Age_binned_AG6',\n",
       "       'Age_binned_AG7', 'resigned'],\n",
       "      dtype='object')"
      ]
     },
     "execution_count": 123,
     "metadata": {},
     "output_type": "execute_result"
    }
   ],
   "source": [
    "data.columns"
   ]
  },
  {
   "cell_type": "code",
   "execution_count": 124,
   "id": "0107c115",
   "metadata": {},
   "outputs": [],
   "source": [
    "data = data.values"
   ]
  },
  {
   "cell_type": "code",
   "execution_count": 125,
   "id": "1ee4ae34",
   "metadata": {},
   "outputs": [],
   "source": [
    "data_r = data[data[:,-1] == 1]\n",
    "val_nr  = data[data[:,-1] == 0]\n",
    "\n",
    "train_r, val_r = train_test_split(data_r, test_size = 0.2, random_state = 123)"
   ]
  },
  {
   "cell_type": "code",
   "execution_count": 126,
   "id": "bfc5c894",
   "metadata": {},
   "outputs": [
    {
     "name": "stdout",
     "output_type": "stream",
     "text": [
      "(1640, 44)\n",
      "(1292, 44)\n",
      "(324, 44)\n",
      "(24, 44)\n"
     ]
    }
   ],
   "source": [
    "print(data.shape)\n",
    "print(train_r.shape)\n",
    "print(val_r.shape)\n",
    "print(val_nr.shape)"
   ]
  },
  {
   "cell_type": "code",
   "execution_count": 127,
   "id": "f45e0947",
   "metadata": {},
   "outputs": [
    {
     "name": "stdout",
     "output_type": "stream",
     "text": [
      "(array([0., 1.]), array([  24, 1616]))\n",
      "(array([1.]), array([1292]))\n",
      "(array([1.]), array([324]))\n",
      "(array([0.]), array([24]))\n"
     ]
    }
   ],
   "source": [
    "# Checking the target distribution\n",
    "print(np.unique(data[:,-1], return_counts = True))\n",
    "print(np.unique(train_r[:,-1], return_counts = True))\n",
    "print(np.unique(val_r[:,-1], return_counts = True))\n",
    "print(np.unique(val_nr[:,-1], return_counts = True))"
   ]
  },
  {
   "cell_type": "code",
   "execution_count": 128,
   "id": "c74b0275",
   "metadata": {},
   "outputs": [],
   "source": [
    "# Extracting only independent features\n",
    "X_train_r = train_r[:,:-1]\n",
    "X_val_r = val_r[:,:-1]\n",
    "X_val_nr = val_nr[:,:-1]"
   ]
  },
  {
   "cell_type": "code",
   "execution_count": 129,
   "id": "c73c2872",
   "metadata": {},
   "outputs": [
    {
     "name": "stdout",
     "output_type": "stream",
     "text": [
      "Input Dim: 43\n",
      "Encoding Dim: 150\n"
     ]
    }
   ],
   "source": [
    "input_dim = X_train_r.shape[1]\n",
    "print(\"Input Dim:\", input_dim)\n",
    "encoding_dim = 150\n",
    "print(\"Encoding Dim:\", encoding_dim)"
   ]
  },
  {
   "cell_type": "code",
   "execution_count": 130,
   "id": "bcec03ac",
   "metadata": {},
   "outputs": [],
   "source": [
    "# AutoEncoders Model Building\n",
    "from keras.layers import Input, Dense, Dropout\n",
    "from keras.models import Model\n",
    "\n",
    "# Input placeholder\n",
    "input_att = Input(shape = (input_dim,))\n",
    "\n",
    "input_dropout = Dropout(0.2)(input_att)\n",
    " \n",
    "# \"encoded\" is the encoded representation of the input\n",
    "encoded = Dense(encoding_dim, activation = 'relu')(input_dropout)\n",
    "\n",
    "# \"decoded\" is the lossy reconstruction of the input\n",
    "decoded = Dense(input_dim, activation = 'tanh')(encoded)\n",
    "\n",
    "autoencoder = Model(input_att, decoded)"
   ]
  },
  {
   "cell_type": "code",
   "execution_count": 131,
   "id": "762c16c0",
   "metadata": {},
   "outputs": [],
   "source": [
    "# Compile the model\n",
    "autoencoder.compile(loss = 'mean_squared_error', optimizer = 'adam')"
   ]
  },
  {
   "cell_type": "code",
   "execution_count": 132,
   "id": "01430789",
   "metadata": {},
   "outputs": [
    {
     "name": "stdout",
     "output_type": "stream",
     "text": [
      "Epoch 1/100\n",
      "33/33 [==============================] - 1s 6ms/step - loss: 0.1935 - val_loss: 0.1177\n",
      "Epoch 2/100\n",
      "33/33 [==============================] - 0s 2ms/step - loss: 0.1219 - val_loss: 0.0877\n",
      "Epoch 3/100\n",
      "33/33 [==============================] - 0s 2ms/step - loss: 0.1004 - val_loss: 0.0735\n",
      "Epoch 4/100\n",
      "33/33 [==============================] - 0s 2ms/step - loss: 0.0899 - val_loss: 0.0646\n",
      "Epoch 5/100\n",
      "33/33 [==============================] - 0s 2ms/step - loss: 0.0841 - val_loss: 0.0586\n",
      "Epoch 6/100\n",
      "33/33 [==============================] - 0s 2ms/step - loss: 0.0788 - val_loss: 0.0542\n",
      "Epoch 7/100\n",
      "33/33 [==============================] - 0s 2ms/step - loss: 0.0751 - val_loss: 0.0508\n",
      "Epoch 8/100\n",
      "33/33 [==============================] - 0s 2ms/step - loss: 0.0732 - val_loss: 0.0483\n",
      "Epoch 9/100\n",
      "33/33 [==============================] - 0s 2ms/step - loss: 0.0711 - val_loss: 0.0468\n",
      "Epoch 10/100\n",
      "33/33 [==============================] - 0s 2ms/step - loss: 0.0693 - val_loss: 0.0453\n",
      "Epoch 11/100\n",
      "33/33 [==============================] - 0s 2ms/step - loss: 0.0697 - val_loss: 0.0442\n",
      "Epoch 12/100\n",
      "33/33 [==============================] - 0s 2ms/step - loss: 0.0684 - val_loss: 0.0433\n",
      "Epoch 13/100\n",
      "33/33 [==============================] - 0s 2ms/step - loss: 0.0682 - val_loss: 0.0420\n",
      "Epoch 14/100\n",
      "33/33 [==============================] - 0s 2ms/step - loss: 0.0676 - val_loss: 0.0419\n",
      "Epoch 15/100\n",
      "33/33 [==============================] - 0s 2ms/step - loss: 0.0675 - val_loss: 0.0410\n",
      "Epoch 16/100\n",
      "33/33 [==============================] - 0s 2ms/step - loss: 0.0669 - val_loss: 0.0404\n",
      "Epoch 17/100\n",
      "33/33 [==============================] - 0s 2ms/step - loss: 0.0671 - val_loss: 0.0399\n",
      "Epoch 18/100\n",
      "33/33 [==============================] - 0s 2ms/step - loss: 0.0653 - val_loss: 0.0398\n",
      "Epoch 19/100\n",
      "33/33 [==============================] - 0s 2ms/step - loss: 0.0654 - val_loss: 0.0393\n",
      "Epoch 20/100\n",
      "33/33 [==============================] - 0s 2ms/step - loss: 0.0648 - val_loss: 0.0390\n",
      "Epoch 21/100\n",
      "33/33 [==============================] - 0s 2ms/step - loss: 0.0645 - val_loss: 0.0386\n",
      "Epoch 22/100\n",
      "33/33 [==============================] - 0s 2ms/step - loss: 0.0643 - val_loss: 0.0389\n",
      "Epoch 23/100\n",
      "33/33 [==============================] - 0s 2ms/step - loss: 0.0643 - val_loss: 0.0384\n",
      "Epoch 24/100\n",
      "33/33 [==============================] - 0s 2ms/step - loss: 0.0646 - val_loss: 0.0383\n",
      "Epoch 25/100\n",
      "33/33 [==============================] - 0s 2ms/step - loss: 0.0636 - val_loss: 0.0382\n",
      "Epoch 26/100\n",
      "33/33 [==============================] - 0s 2ms/step - loss: 0.0641 - val_loss: 0.0378\n",
      "Epoch 27/100\n",
      "33/33 [==============================] - 0s 2ms/step - loss: 0.0639 - val_loss: 0.0378\n",
      "Epoch 28/100\n",
      "33/33 [==============================] - 0s 2ms/step - loss: 0.0630 - val_loss: 0.0375\n",
      "Epoch 29/100\n",
      "33/33 [==============================] - 0s 2ms/step - loss: 0.0624 - val_loss: 0.0375\n",
      "Epoch 30/100\n",
      "33/33 [==============================] - 0s 2ms/step - loss: 0.0618 - val_loss: 0.0375\n",
      "Epoch 31/100\n",
      "33/33 [==============================] - 0s 2ms/step - loss: 0.0640 - val_loss: 0.0375\n",
      "Epoch 32/100\n",
      "33/33 [==============================] - 0s 2ms/step - loss: 0.0619 - val_loss: 0.0370\n",
      "Epoch 33/100\n",
      "33/33 [==============================] - 0s 2ms/step - loss: 0.0624 - val_loss: 0.0371\n",
      "Epoch 34/100\n",
      "33/33 [==============================] - 0s 2ms/step - loss: 0.0629 - val_loss: 0.0367\n",
      "Epoch 35/100\n",
      "33/33 [==============================] - 0s 2ms/step - loss: 0.0621 - val_loss: 0.0368\n",
      "Epoch 36/100\n",
      "33/33 [==============================] - 0s 2ms/step - loss: 0.0629 - val_loss: 0.0365\n",
      "Epoch 37/100\n",
      "33/33 [==============================] - 0s 2ms/step - loss: 0.0624 - val_loss: 0.0369\n",
      "Epoch 38/100\n",
      "33/33 [==============================] - 0s 2ms/step - loss: 0.0611 - val_loss: 0.0363\n",
      "Epoch 39/100\n",
      "33/33 [==============================] - 0s 2ms/step - loss: 0.0621 - val_loss: 0.0366\n",
      "Epoch 40/100\n",
      "33/33 [==============================] - 0s 2ms/step - loss: 0.0624 - val_loss: 0.0365\n",
      "Epoch 41/100\n",
      "33/33 [==============================] - 0s 2ms/step - loss: 0.0625 - val_loss: 0.0365\n",
      "Epoch 42/100\n",
      "33/33 [==============================] - 0s 2ms/step - loss: 0.0621 - val_loss: 0.0363\n",
      "Epoch 43/100\n",
      "33/33 [==============================] - 0s 2ms/step - loss: 0.0600 - val_loss: 0.0361\n",
      "Epoch 44/100\n",
      "33/33 [==============================] - 0s 2ms/step - loss: 0.0629 - val_loss: 0.0367\n",
      "Epoch 45/100\n",
      "33/33 [==============================] - 0s 2ms/step - loss: 0.0630 - val_loss: 0.0374\n",
      "Epoch 46/100\n",
      "33/33 [==============================] - 0s 2ms/step - loss: 0.0621 - val_loss: 0.0366\n",
      "Epoch 47/100\n",
      "33/33 [==============================] - 0s 2ms/step - loss: 0.0622 - val_loss: 0.0366\n",
      "Epoch 48/100\n",
      "33/33 [==============================] - 0s 2ms/step - loss: 0.0611 - val_loss: 0.0366\n",
      "Epoch 49/100\n",
      "33/33 [==============================] - 0s 2ms/step - loss: 0.0621 - val_loss: 0.0369\n",
      "Epoch 50/100\n",
      "33/33 [==============================] - 0s 2ms/step - loss: 0.0618 - val_loss: 0.0360\n",
      "Epoch 51/100\n",
      "33/33 [==============================] - 0s 2ms/step - loss: 0.0624 - val_loss: 0.0364\n",
      "Epoch 52/100\n",
      "33/33 [==============================] - 0s 2ms/step - loss: 0.0615 - val_loss: 0.0361\n",
      "Epoch 53/100\n",
      "33/33 [==============================] - 0s 2ms/step - loss: 0.0610 - val_loss: 0.0361\n",
      "Epoch 54/100\n",
      "33/33 [==============================] - 0s 2ms/step - loss: 0.0620 - val_loss: 0.0366\n",
      "Epoch 55/100\n",
      "33/33 [==============================] - 0s 2ms/step - loss: 0.0621 - val_loss: 0.0362\n",
      "Epoch 56/100\n",
      "33/33 [==============================] - 0s 2ms/step - loss: 0.0618 - val_loss: 0.0358\n",
      "Epoch 57/100\n",
      "33/33 [==============================] - 0s 2ms/step - loss: 0.0617 - val_loss: 0.0362\n",
      "Epoch 58/100\n",
      "33/33 [==============================] - 0s 2ms/step - loss: 0.0622 - val_loss: 0.0364\n",
      "Epoch 59/100\n",
      "33/33 [==============================] - 0s 2ms/step - loss: 0.0608 - val_loss: 0.0360\n",
      "Epoch 60/100\n",
      "33/33 [==============================] - 0s 2ms/step - loss: 0.0622 - val_loss: 0.0360\n",
      "Epoch 61/100\n",
      "33/33 [==============================] - 0s 3ms/step - loss: 0.0623 - val_loss: 0.0361\n",
      "Epoch 62/100\n",
      "33/33 [==============================] - 0s 2ms/step - loss: 0.0601 - val_loss: 0.0358\n",
      "Epoch 63/100\n",
      "33/33 [==============================] - 0s 2ms/step - loss: 0.0612 - val_loss: 0.0358\n",
      "Epoch 64/100\n",
      "33/33 [==============================] - 0s 2ms/step - loss: 0.0618 - val_loss: 0.0362\n",
      "Epoch 65/100\n",
      "33/33 [==============================] - 0s 2ms/step - loss: 0.0622 - val_loss: 0.0363\n",
      "Epoch 66/100\n",
      "33/33 [==============================] - 0s 2ms/step - loss: 0.0615 - val_loss: 0.0360\n",
      "Epoch 67/100\n",
      "33/33 [==============================] - 0s 2ms/step - loss: 0.0608 - val_loss: 0.0359\n",
      "Epoch 68/100\n",
      "33/33 [==============================] - 0s 2ms/step - loss: 0.0631 - val_loss: 0.0360\n",
      "Epoch 69/100\n",
      "33/33 [==============================] - 0s 2ms/step - loss: 0.0613 - val_loss: 0.0363\n",
      "Epoch 70/100\n",
      "33/33 [==============================] - 0s 2ms/step - loss: 0.0635 - val_loss: 0.0362\n",
      "Epoch 71/100\n",
      "33/33 [==============================] - 0s 2ms/step - loss: 0.0613 - val_loss: 0.0360\n",
      "Epoch 72/100\n",
      "33/33 [==============================] - 0s 2ms/step - loss: 0.0611 - val_loss: 0.0356\n",
      "Epoch 73/100\n",
      "33/33 [==============================] - 0s 2ms/step - loss: 0.0598 - val_loss: 0.0358\n",
      "Epoch 74/100\n",
      "33/33 [==============================] - 0s 2ms/step - loss: 0.0617 - val_loss: 0.0367\n",
      "Epoch 75/100\n",
      "33/33 [==============================] - 0s 2ms/step - loss: 0.0598 - val_loss: 0.0357\n",
      "Epoch 76/100\n",
      "33/33 [==============================] - 0s 2ms/step - loss: 0.0597 - val_loss: 0.0357\n",
      "Epoch 77/100\n",
      "33/33 [==============================] - 0s 2ms/step - loss: 0.0621 - val_loss: 0.0362\n",
      "Epoch 78/100\n",
      "33/33 [==============================] - 0s 2ms/step - loss: 0.0610 - val_loss: 0.0357\n",
      "Epoch 79/100\n",
      "33/33 [==============================] - 0s 2ms/step - loss: 0.0612 - val_loss: 0.0357\n",
      "Epoch 80/100\n",
      "33/33 [==============================] - 0s 2ms/step - loss: 0.0609 - val_loss: 0.0360\n",
      "Epoch 81/100\n",
      "33/33 [==============================] - 0s 2ms/step - loss: 0.0612 - val_loss: 0.0358\n",
      "Epoch 82/100\n",
      "33/33 [==============================] - 0s 2ms/step - loss: 0.0606 - val_loss: 0.0357\n",
      "Epoch 83/100\n"
     ]
    },
    {
     "name": "stdout",
     "output_type": "stream",
     "text": [
      "33/33 [==============================] - 0s 3ms/step - loss: 0.0600 - val_loss: 0.0356\n",
      "Epoch 84/100\n",
      "33/33 [==============================] - 0s 3ms/step - loss: 0.0616 - val_loss: 0.0366\n",
      "Epoch 85/100\n",
      "33/33 [==============================] - 0s 2ms/step - loss: 0.0622 - val_loss: 0.0357\n",
      "Epoch 86/100\n",
      "33/33 [==============================] - 0s 2ms/step - loss: 0.0612 - val_loss: 0.0358\n",
      "Epoch 87/100\n",
      "33/33 [==============================] - 0s 2ms/step - loss: 0.0614 - val_loss: 0.0355\n",
      "Epoch 88/100\n",
      "33/33 [==============================] - 0s 2ms/step - loss: 0.0624 - val_loss: 0.0352\n",
      "Epoch 89/100\n",
      "33/33 [==============================] - 0s 2ms/step - loss: 0.0620 - val_loss: 0.0359\n",
      "Epoch 90/100\n",
      "33/33 [==============================] - 0s 2ms/step - loss: 0.0617 - val_loss: 0.0355\n",
      "Epoch 91/100\n",
      "33/33 [==============================] - 0s 2ms/step - loss: 0.0618 - val_loss: 0.0355\n",
      "Epoch 92/100\n",
      "33/33 [==============================] - 0s 2ms/step - loss: 0.0603 - val_loss: 0.0356\n",
      "Epoch 93/100\n",
      "33/33 [==============================] - 0s 2ms/step - loss: 0.0609 - val_loss: 0.0357\n",
      "Epoch 94/100\n",
      "33/33 [==============================] - 0s 2ms/step - loss: 0.0598 - val_loss: 0.0359\n",
      "Epoch 95/100\n",
      "33/33 [==============================] - 0s 2ms/step - loss: 0.0614 - val_loss: 0.0357\n",
      "Epoch 96/100\n",
      "33/33 [==============================] - 0s 3ms/step - loss: 0.0603 - val_loss: 0.0355\n",
      "Epoch 97/100\n",
      "33/33 [==============================] - 0s 2ms/step - loss: 0.0615 - val_loss: 0.0352\n",
      "Epoch 98/100\n",
      "33/33 [==============================] - 0s 2ms/step - loss: 0.0615 - val_loss: 0.0365\n",
      "Epoch 99/100\n",
      "33/33 [==============================] - 0s 2ms/step - loss: 0.0600 - val_loss: 0.0357\n",
      "Epoch 100/100\n",
      "33/33 [==============================] - 0s 2ms/step - loss: 0.0610 - val_loss: 0.0353\n"
     ]
    },
    {
     "data": {
      "text/plain": [
       "<keras.callbacks.History at 0x15ce63160>"
      ]
     },
     "execution_count": 132,
     "metadata": {},
     "output_type": "execute_result"
    }
   ],
   "source": [
    "# Fit the model\n",
    "autoencoder.fit(X_train_r, X_train_r, epochs = 100, shuffle = True, validation_split = 0.2, verbose = 1)"
   ]
  },
  {
   "cell_type": "code",
   "execution_count": 133,
   "id": "bbc8f20f",
   "metadata": {},
   "outputs": [
    {
     "name": "stdout",
     "output_type": "stream",
     "text": [
      "41/41 [==============================] - 0s 998us/step - loss: 0.0403\n"
     ]
    },
    {
     "data": {
      "text/plain": [
       "0.0403100848197937"
      ]
     },
     "execution_count": 133,
     "metadata": {},
     "output_type": "execute_result"
    }
   ],
   "source": [
    "# Evaluate the loss on resigned train records\n",
    "autoencoder.evaluate(X_train_r, X_train_r)"
   ]
  },
  {
   "cell_type": "code",
   "execution_count": 134,
   "id": "dd998ecd",
   "metadata": {},
   "outputs": [
    {
     "name": "stdout",
     "output_type": "stream",
     "text": [
      "11/11 [==============================] - 0s 986us/step - loss: 0.0388\n"
     ]
    },
    {
     "data": {
      "text/plain": [
       "0.0387859046459198"
      ]
     },
     "execution_count": 134,
     "metadata": {},
     "output_type": "execute_result"
    }
   ],
   "source": [
    "# Evaluate the loss on resigned validation records\n",
    "autoencoder.evaluate(X_val_r, X_val_r)"
   ]
  },
  {
   "cell_type": "code",
   "execution_count": 135,
   "id": "cbdc885a",
   "metadata": {},
   "outputs": [
    {
     "name": "stdout",
     "output_type": "stream",
     "text": [
      "1/1 [==============================] - 0s 18ms/step - loss: 0.0562\n"
     ]
    },
    {
     "data": {
      "text/plain": [
       "0.056201592087745667"
      ]
     },
     "execution_count": 135,
     "metadata": {},
     "output_type": "execute_result"
    }
   ],
   "source": [
    "# Evaluate the loss on not-resigned validation records\n",
    "autoencoder.evaluate(X_val_nr, X_val_nr)"
   ]
  },
  {
   "cell_type": "code",
   "execution_count": 136,
   "id": "10ac7612",
   "metadata": {},
   "outputs": [],
   "source": [
    "# Function to calculate mse for each record\n",
    "def mse_for_each_record(act, pred):\n",
    "    error = act - pred\n",
    "    squared_error = np.square(error)\n",
    "    mean_squared_error = np.mean(squared_error, axis=1)\n",
    "    return mean_squared_error"
   ]
  },
  {
   "cell_type": "code",
   "execution_count": 137,
   "id": "0029de16",
   "metadata": {},
   "outputs": [],
   "source": [
    "# Making predictions on resigned train records and calculating their mse\n",
    "pred_train_r = autoencoder.predict(X_train_r)\n",
    "mse_train_r = mse_for_each_record(X_train_r, pred_train_r)\n",
    "\n",
    "# Making predictions on resigned val records and calculating their mse\n",
    "pred_val_r = autoencoder.predict(X_val_r)\n",
    "mse_val_r = mse_for_each_record(X_val_r, pred_val_r)\n",
    "\n",
    "# Making predictions on not-resigned val records and calculating their mse\n",
    "pred_val_nr = autoencoder.predict(X_val_nr)\n",
    "mse_val_nr = mse_for_each_record(X_val_nr, pred_val_nr)"
   ]
  },
  {
   "cell_type": "code",
   "execution_count": 138,
   "id": "de6ed383",
   "metadata": {},
   "outputs": [
    {
     "name": "stdout",
     "output_type": "stream",
     "text": [
      "Cut-off = 0.03\n"
     ]
    }
   ],
   "source": [
    "# Decide cut off mse (which is used to categorize a record as either resigned/not-resigned based on its MSE value)\n",
    "#cut_off = np.round(np.percentile(mse_train_r,99),2)\n",
    "cut_off = np.round(np.percentile(mse_train_r,80),2)\n",
    "print(\"Cut-off = {}\".format(cut_off))"
   ]
  },
  {
   "cell_type": "code",
   "execution_count": 139,
   "id": "a2547c1f",
   "metadata": {},
   "outputs": [
    {
     "name": "stdout",
     "output_type": "stream",
     "text": [
      "Resigned train records = 82.0%\n",
      "Resigned validation records = 80.0%\n",
      "Unresigned validation records = 28.999999999999996%\n"
     ]
    }
   ],
   "source": [
    "#% of correctly predicted non-fraud train, non-fraud test and fraud test records\n",
    "print(\"Resigned train records = {}%\".format(np.round(np.sum(mse_train_r <= cut_off)/train_r.shape[0],2)*100))\n",
    "print(\"Resigned validation records = {}%\".format(np.round(np.sum(mse_val_r <= cut_off)/val_r.shape[0],2)*100))\n",
    "print(\"Unresigned validation records = {}%\".format(np.round(np.sum(mse_val_nr > cut_off)/val_nr.shape[0],2)*100))"
   ]
  },
  {
   "cell_type": "markdown",
   "id": "224d88ee",
   "metadata": {},
   "source": [
    "#### Generating test predictions with the best model"
   ]
  },
  {
   "cell_type": "code",
   "execution_count": 141,
   "id": "efa16295",
   "metadata": {},
   "outputs": [
    {
     "data": {
      "text/plain": [
       "resigned\n",
       "0           376\n",
       "1           365\n",
       "dtype: int64"
      ]
     },
     "execution_count": 141,
     "metadata": {},
     "output_type": "execute_result"
    }
   ],
   "source": [
    "pd.DataFrame(dt1.predict(test), columns = ['resigned']).value_counts()"
   ]
  },
  {
   "cell_type": "code",
   "execution_count": 142,
   "id": "a91c1aa1",
   "metadata": {},
   "outputs": [
    {
     "data": {
      "text/plain": [
       "resigned\n",
       "1           664\n",
       "0            77\n",
       "dtype: int64"
      ]
     },
     "execution_count": 142,
     "metadata": {},
     "output_type": "execute_result"
    }
   ],
   "source": [
    "pd.DataFrame(dt2.predict(test), columns = ['resigned']).value_counts()"
   ]
  },
  {
   "cell_type": "code",
   "execution_count": 143,
   "id": "8fc76f5c",
   "metadata": {},
   "outputs": [
    {
     "data": {
      "text/plain": [
       "resigned\n",
       "1           698\n",
       "0            43\n",
       "dtype: int64"
      ]
     },
     "execution_count": 143,
     "metadata": {},
     "output_type": "execute_result"
    }
   ],
   "source": [
    "pd.DataFrame(dt3.predict(test), columns = ['resigned']).value_counts()"
   ]
  },
  {
   "cell_type": "code",
   "execution_count": 144,
   "id": "3b3a8bf1",
   "metadata": {},
   "outputs": [
    {
     "data": {
      "text/plain": [
       "resigned\n",
       "1           741\n",
       "dtype: int64"
      ]
     },
     "execution_count": 144,
     "metadata": {},
     "output_type": "execute_result"
    }
   ],
   "source": [
    "pd.DataFrame(rf1.predict(test), columns = ['resigned']).value_counts()"
   ]
  },
  {
   "cell_type": "code",
   "execution_count": 145,
   "id": "359237b4",
   "metadata": {},
   "outputs": [
    {
     "data": {
      "text/plain": [
       "resigned\n",
       "1           735\n",
       "0             6\n",
       "dtype: int64"
      ]
     },
     "execution_count": 145,
     "metadata": {},
     "output_type": "execute_result"
    }
   ],
   "source": [
    "pd.DataFrame(rf2.predict(test), columns = ['resigned']).value_counts()"
   ]
  },
  {
   "cell_type": "code",
   "execution_count": 146,
   "id": "12df5df9",
   "metadata": {},
   "outputs": [
    {
     "data": {
      "text/plain": [
       "resigned\n",
       "1           736\n",
       "0             5\n",
       "dtype: int64"
      ]
     },
     "execution_count": 146,
     "metadata": {},
     "output_type": "execute_result"
    }
   ],
   "source": [
    "pd.DataFrame(rf3.predict(test), columns = ['resigned']).value_counts()"
   ]
  }
 ],
 "metadata": {
  "kernelspec": {
   "display_name": "Python 3",
   "language": "python",
   "name": "python3"
  },
  "language_info": {
   "codemirror_mode": {
    "name": "ipython",
    "version": 3
   },
   "file_extension": ".py",
   "mimetype": "text/x-python",
   "name": "python",
   "nbconvert_exporter": "python",
   "pygments_lexer": "ipython3",
   "version": "3.8.8"
  }
 },
 "nbformat": 4,
 "nbformat_minor": 5
}
